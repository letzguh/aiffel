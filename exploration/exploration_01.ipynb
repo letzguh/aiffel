{
 "cells": [
  {
   "cell_type": "markdown",
   "id": "wrong-start",
   "metadata": {},
   "source": [
    "# Exploration_01 인공지능과 가위바위보하기"
   ]
  },
  {
   "cell_type": "code",
   "execution_count": null,
   "id": "opponent-motion",
   "metadata": {},
   "outputs": [],
   "source": []
  }
 ],
 "metadata": {
  "kernelspec": {
   "display_name": "Python 3",
   "language": "python",
   "name": "python3"
  },
  "language_info": {
   "codemirror_mode": {
    "name": "ipython",
    "version": 3
   },
   "file_extension": ".py",
   "mimetype": "text/x-python",
   "name": "python",
   "nbconvert_exporter": "python",
   "pygments_lexer": "ipython3",
   "version": "3.7.9"
  }
 },
 "nbformat": 4,
 "nbformat_minor": 5
}
