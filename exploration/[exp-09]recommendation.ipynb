{
 "cells": [
  {
   "cell_type": "markdown",
   "id": "loaded-information",
   "metadata": {},
   "source": [
    "## 1. 데이터 준비와 전처리"
   ]
  },
  {
   "cell_type": "code",
   "execution_count": 24,
   "id": "secondary-border",
   "metadata": {},
   "outputs": [
    {
     "data": {
      "text/html": [
       "<div>\n",
       "<style scoped>\n",
       "    .dataframe tbody tr th:only-of-type {\n",
       "        vertical-align: middle;\n",
       "    }\n",
       "\n",
       "    .dataframe tbody tr th {\n",
       "        vertical-align: top;\n",
       "    }\n",
       "\n",
       "    .dataframe thead th {\n",
       "        text-align: right;\n",
       "    }\n",
       "</style>\n",
       "<table border=\"1\" class=\"dataframe\">\n",
       "  <thead>\n",
       "    <tr style=\"text-align: right;\">\n",
       "      <th></th>\n",
       "      <th>user_id</th>\n",
       "      <th>movie_id</th>\n",
       "      <th>ratings</th>\n",
       "      <th>timestamp</th>\n",
       "    </tr>\n",
       "  </thead>\n",
       "  <tbody>\n",
       "    <tr>\n",
       "      <th>0</th>\n",
       "      <td>1</td>\n",
       "      <td>1193</td>\n",
       "      <td>5</td>\n",
       "      <td>978300760</td>\n",
       "    </tr>\n",
       "    <tr>\n",
       "      <th>1</th>\n",
       "      <td>1</td>\n",
       "      <td>661</td>\n",
       "      <td>3</td>\n",
       "      <td>978302109</td>\n",
       "    </tr>\n",
       "    <tr>\n",
       "      <th>2</th>\n",
       "      <td>1</td>\n",
       "      <td>914</td>\n",
       "      <td>3</td>\n",
       "      <td>978301968</td>\n",
       "    </tr>\n",
       "    <tr>\n",
       "      <th>3</th>\n",
       "      <td>1</td>\n",
       "      <td>3408</td>\n",
       "      <td>4</td>\n",
       "      <td>978300275</td>\n",
       "    </tr>\n",
       "    <tr>\n",
       "      <th>4</th>\n",
       "      <td>1</td>\n",
       "      <td>2355</td>\n",
       "      <td>5</td>\n",
       "      <td>978824291</td>\n",
       "    </tr>\n",
       "  </tbody>\n",
       "</table>\n",
       "</div>"
      ],
      "text/plain": [
       "   user_id  movie_id  ratings  timestamp\n",
       "0        1      1193        5  978300760\n",
       "1        1       661        3  978302109\n",
       "2        1       914        3  978301968\n",
       "3        1      3408        4  978300275\n",
       "4        1      2355        5  978824291"
      ]
     },
     "execution_count": 24,
     "metadata": {},
     "output_type": "execute_result"
    }
   ],
   "source": [
    "import pandas as pd\n",
    "import os\n",
    "rating_file_path=os.getenv('HOME') + '/aiffel/recommendata_iu/data/ml-1m/ratings.dat'\n",
    "ratings_cols = ['user_id', 'movie_id', 'ratings', 'timestamp']\n",
    "ratings = pd.read_csv(rating_file_path, sep='::', names=ratings_cols, engine='python', encoding = \"ISO-8859-1\")\n",
    "orginal_data_size = len(ratings)\n",
    "ratings.head()"
   ]
  },
  {
   "cell_type": "code",
   "execution_count": 25,
   "id": "revised-piano",
   "metadata": {},
   "outputs": [
    {
     "name": "stdout",
     "output_type": "stream",
     "text": [
      "orginal_data_size: 1000209, filtered_data_size: 836478\n",
      "Ratio of Remaining Data is 83.63%\n"
     ]
    }
   ],
   "source": [
    "# 3점 이상만 남깁니다.\n",
    "ratings = ratings[ratings['ratings']>=3]\n",
    "filtered_data_size = len(ratings)\n",
    "\n",
    "print(f'orginal_data_size: {orginal_data_size}, filtered_data_size: {filtered_data_size}')\n",
    "print(f'Ratio of Remaining Data is {filtered_data_size / orginal_data_size:.2%}')"
   ]
  },
  {
   "cell_type": "code",
   "execution_count": 26,
   "id": "documented-corrections",
   "metadata": {},
   "outputs": [],
   "source": [
    "# ratings 컬럼의 이름을 counts로 바꿉니다.\n",
    "ratings.rename(columns={'ratings':'counts'}, inplace=True)"
   ]
  },
  {
   "cell_type": "code",
   "execution_count": 27,
   "id": "familiar-humanity",
   "metadata": {},
   "outputs": [
    {
     "data": {
      "text/plain": [
       "0          5\n",
       "1          3\n",
       "2          3\n",
       "3          4\n",
       "4          5\n",
       "          ..\n",
       "1000203    3\n",
       "1000205    5\n",
       "1000206    5\n",
       "1000207    4\n",
       "1000208    4\n",
       "Name: counts, Length: 836478, dtype: int64"
      ]
     },
     "execution_count": 27,
     "metadata": {},
     "output_type": "execute_result"
    }
   ],
   "source": [
    "ratings['counts']"
   ]
  },
  {
   "cell_type": "code",
   "execution_count": 28,
   "id": "accessory-prague",
   "metadata": {},
   "outputs": [
    {
     "data": {
      "text/html": [
       "<div>\n",
       "<style scoped>\n",
       "    .dataframe tbody tr th:only-of-type {\n",
       "        vertical-align: middle;\n",
       "    }\n",
       "\n",
       "    .dataframe tbody tr th {\n",
       "        vertical-align: top;\n",
       "    }\n",
       "\n",
       "    .dataframe thead th {\n",
       "        text-align: right;\n",
       "    }\n",
       "</style>\n",
       "<table border=\"1\" class=\"dataframe\">\n",
       "  <thead>\n",
       "    <tr style=\"text-align: right;\">\n",
       "      <th></th>\n",
       "      <th>movie_id</th>\n",
       "      <th>title</th>\n",
       "      <th>genre</th>\n",
       "    </tr>\n",
       "  </thead>\n",
       "  <tbody>\n",
       "    <tr>\n",
       "      <th>0</th>\n",
       "      <td>1</td>\n",
       "      <td>Toy Story (1995)</td>\n",
       "      <td>Animation|Children's|Comedy</td>\n",
       "    </tr>\n",
       "    <tr>\n",
       "      <th>1</th>\n",
       "      <td>2</td>\n",
       "      <td>Jumanji (1995)</td>\n",
       "      <td>Adventure|Children's|Fantasy</td>\n",
       "    </tr>\n",
       "    <tr>\n",
       "      <th>2</th>\n",
       "      <td>3</td>\n",
       "      <td>Grumpier Old Men (1995)</td>\n",
       "      <td>Comedy|Romance</td>\n",
       "    </tr>\n",
       "    <tr>\n",
       "      <th>3</th>\n",
       "      <td>4</td>\n",
       "      <td>Waiting to Exhale (1995)</td>\n",
       "      <td>Comedy|Drama</td>\n",
       "    </tr>\n",
       "    <tr>\n",
       "      <th>4</th>\n",
       "      <td>5</td>\n",
       "      <td>Father of the Bride Part II (1995)</td>\n",
       "      <td>Comedy</td>\n",
       "    </tr>\n",
       "  </tbody>\n",
       "</table>\n",
       "</div>"
      ],
      "text/plain": [
       "   movie_id                               title                         genre\n",
       "0         1                    Toy Story (1995)   Animation|Children's|Comedy\n",
       "1         2                      Jumanji (1995)  Adventure|Children's|Fantasy\n",
       "2         3             Grumpier Old Men (1995)                Comedy|Romance\n",
       "3         4            Waiting to Exhale (1995)                  Comedy|Drama\n",
       "4         5  Father of the Bride Part II (1995)                        Comedy"
      ]
     },
     "execution_count": 28,
     "metadata": {},
     "output_type": "execute_result"
    }
   ],
   "source": [
    "# 영화 제목을 보기 위해 메타 데이터를 읽어옵니다.\n",
    "movie_file_path=os.getenv('HOME') + '/aiffel/recommendata_iu/data/ml-1m/movies.dat'\n",
    "cols = ['movie_id', 'title', 'genre'] \n",
    "movies = pd.read_csv(movie_file_path, sep='::', names=cols, engine='python', encoding='ISO-8859-1')\n",
    "movies.head()"
   ]
  },
  {
   "cell_type": "code",
   "execution_count": 29,
   "id": "premium-bacteria",
   "metadata": {},
   "outputs": [
    {
     "data": {
      "text/html": [
       "<div>\n",
       "<style scoped>\n",
       "    .dataframe tbody tr th:only-of-type {\n",
       "        vertical-align: middle;\n",
       "    }\n",
       "\n",
       "    .dataframe tbody tr th {\n",
       "        vertical-align: top;\n",
       "    }\n",
       "\n",
       "    .dataframe thead th {\n",
       "        text-align: right;\n",
       "    }\n",
       "</style>\n",
       "<table border=\"1\" class=\"dataframe\">\n",
       "  <thead>\n",
       "    <tr style=\"text-align: right;\">\n",
       "      <th></th>\n",
       "      <th>movie_id</th>\n",
       "      <th>title</th>\n",
       "      <th>genre</th>\n",
       "    </tr>\n",
       "  </thead>\n",
       "  <tbody>\n",
       "    <tr>\n",
       "      <th>3873</th>\n",
       "      <td>3943</td>\n",
       "      <td>bamboozled (2000)</td>\n",
       "      <td>Comedy</td>\n",
       "    </tr>\n",
       "    <tr>\n",
       "      <th>3874</th>\n",
       "      <td>3944</td>\n",
       "      <td>bootmen (2000)</td>\n",
       "      <td>Comedy|Drama</td>\n",
       "    </tr>\n",
       "    <tr>\n",
       "      <th>3875</th>\n",
       "      <td>3945</td>\n",
       "      <td>digimon: the movie (2000)</td>\n",
       "      <td>Adventure|Animation|Children's</td>\n",
       "    </tr>\n",
       "    <tr>\n",
       "      <th>3876</th>\n",
       "      <td>3946</td>\n",
       "      <td>get carter (2000)</td>\n",
       "      <td>Action|Drama|Thriller</td>\n",
       "    </tr>\n",
       "    <tr>\n",
       "      <th>3877</th>\n",
       "      <td>3947</td>\n",
       "      <td>get carter (1971)</td>\n",
       "      <td>Thriller</td>\n",
       "    </tr>\n",
       "    <tr>\n",
       "      <th>3878</th>\n",
       "      <td>3948</td>\n",
       "      <td>meet the parents (2000)</td>\n",
       "      <td>Comedy</td>\n",
       "    </tr>\n",
       "    <tr>\n",
       "      <th>3879</th>\n",
       "      <td>3949</td>\n",
       "      <td>requiem for a dream (2000)</td>\n",
       "      <td>Drama</td>\n",
       "    </tr>\n",
       "    <tr>\n",
       "      <th>3880</th>\n",
       "      <td>3950</td>\n",
       "      <td>tigerland (2000)</td>\n",
       "      <td>Drama</td>\n",
       "    </tr>\n",
       "    <tr>\n",
       "      <th>3881</th>\n",
       "      <td>3951</td>\n",
       "      <td>two family house (2000)</td>\n",
       "      <td>Drama</td>\n",
       "    </tr>\n",
       "    <tr>\n",
       "      <th>3882</th>\n",
       "      <td>3952</td>\n",
       "      <td>contender, the (2000)</td>\n",
       "      <td>Drama|Thriller</td>\n",
       "    </tr>\n",
       "  </tbody>\n",
       "</table>\n",
       "</div>"
      ],
      "text/plain": [
       "      movie_id                       title                           genre\n",
       "3873      3943           bamboozled (2000)                          Comedy\n",
       "3874      3944              bootmen (2000)                    Comedy|Drama\n",
       "3875      3945   digimon: the movie (2000)  Adventure|Animation|Children's\n",
       "3876      3946           get carter (2000)           Action|Drama|Thriller\n",
       "3877      3947           get carter (1971)                        Thriller\n",
       "3878      3948     meet the parents (2000)                          Comedy\n",
       "3879      3949  requiem for a dream (2000)                           Drama\n",
       "3880      3950            tigerland (2000)                           Drama\n",
       "3881      3951     two family house (2000)                           Drama\n",
       "3882      3952       contender, the (2000)                  Drama|Thriller"
      ]
     },
     "execution_count": 29,
     "metadata": {},
     "output_type": "execute_result"
    }
   ],
   "source": [
    "# string, 소문자로 바꿔준다.\n",
    "movies['title'] = movies['title'].str.lower()\n",
    "movies.tail(10)"
   ]
  },
  {
   "cell_type": "code",
   "execution_count": 30,
   "id": "black-expression",
   "metadata": {},
   "outputs": [],
   "source": [
    "#genre부문 없애주기\n",
    "movies = movies.drop(columns='genre')"
   ]
  },
  {
   "cell_type": "markdown",
   "id": "circular-carter",
   "metadata": {},
   "source": [
    "## 2. 분석해봅시다."
   ]
  },
  {
   "cell_type": "code",
   "execution_count": 31,
   "id": "announced-happiness",
   "metadata": {},
   "outputs": [
    {
     "data": {
      "text/plain": [
       "3628"
      ]
     },
     "execution_count": 31,
     "metadata": {},
     "output_type": "execute_result"
    }
   ],
   "source": [
    "#ratings에 있는 유니크한 영화 개수\n",
    "ratings['movie_id'].nunique()"
   ]
  },
  {
   "cell_type": "code",
   "execution_count": 32,
   "id": "challenging-treasurer",
   "metadata": {},
   "outputs": [
    {
     "data": {
      "text/plain": [
       "6039"
      ]
     },
     "execution_count": 32,
     "metadata": {},
     "output_type": "execute_result"
    }
   ],
   "source": [
    "# ratings에 있는 유니크한 사용자 수\n",
    "ratings['user_id'].nunique()"
   ]
  },
  {
   "cell_type": "code",
   "execution_count": 33,
   "id": "about-female",
   "metadata": {},
   "outputs": [
    {
     "data": {
      "text/plain": [
       "movie_id\n",
       "2858    3211\n",
       "260     2910\n",
       "1196    2885\n",
       "1210    2716\n",
       "2028    2561\n",
       "589     2509\n",
       "593     2498\n",
       "1198    2473\n",
       "1270    2460\n",
       "2571    2434\n",
       "480     2413\n",
       "2762    2385\n",
       "608     2371\n",
       "110     2314\n",
       "1580    2297\n",
       "527     2257\n",
       "1197    2252\n",
       "2396    2213\n",
       "1617    2210\n",
       "318     2194\n",
       "858     2167\n",
       "1265    2121\n",
       "1097    2102\n",
       "2997    2066\n",
       "2716    2051\n",
       "296     2030\n",
       "356     2022\n",
       "1240    2019\n",
       "1       2000\n",
       "457     1941\n",
       "Name: user_id, dtype: int64"
      ]
     },
     "execution_count": 33,
     "metadata": {},
     "output_type": "execute_result"
    }
   ],
   "source": [
    "# 가장 인기 있는 영화 30개(인기순)\n",
    "movie_count = ratings.groupby('movie_id')['user_id'].count()\n",
    "movie_count.sort_values(ascending=False).head(30)"
   ]
  },
  {
   "cell_type": "code",
   "execution_count": 34,
   "id": "improving-usage",
   "metadata": {},
   "outputs": [
    {
     "data": {
      "text/plain": [
       "count    6039.000000\n",
       "mean      138.512668\n",
       "std       156.241599\n",
       "min         1.000000\n",
       "25%        38.000000\n",
       "50%        81.000000\n",
       "75%       177.000000\n",
       "max      1968.000000\n",
       "Name: movie_id, dtype: float64"
      ]
     },
     "execution_count": 34,
     "metadata": {},
     "output_type": "execute_result"
    }
   ],
   "source": [
    "# 유저별 몇 개의 영화를 보고 있는지에 대한 통계\n",
    "user_count = ratings.groupby('user_id')['movie_id'].count()\n",
    "user_count.describe()"
   ]
  },
  {
   "cell_type": "code",
   "execution_count": 35,
   "id": "competitive-mailman",
   "metadata": {},
   "outputs": [
    {
     "data": {
      "text/html": [
       "<div>\n",
       "<style scoped>\n",
       "    .dataframe tbody tr th:only-of-type {\n",
       "        vertical-align: middle;\n",
       "    }\n",
       "\n",
       "    .dataframe tbody tr th {\n",
       "        vertical-align: top;\n",
       "    }\n",
       "\n",
       "    .dataframe thead th {\n",
       "        text-align: right;\n",
       "    }\n",
       "</style>\n",
       "<table border=\"1\" class=\"dataframe\">\n",
       "  <thead>\n",
       "    <tr style=\"text-align: right;\">\n",
       "      <th></th>\n",
       "      <th>user_id</th>\n",
       "      <th>movie_id</th>\n",
       "      <th>counts</th>\n",
       "      <th>timestamp</th>\n",
       "      <th>title</th>\n",
       "    </tr>\n",
       "  </thead>\n",
       "  <tbody>\n",
       "    <tr>\n",
       "      <th>0</th>\n",
       "      <td>1</td>\n",
       "      <td>1193</td>\n",
       "      <td>5</td>\n",
       "      <td>978300760</td>\n",
       "      <td>one flew over the cuckoo's nest (1975)</td>\n",
       "    </tr>\n",
       "    <tr>\n",
       "      <th>1</th>\n",
       "      <td>1</td>\n",
       "      <td>661</td>\n",
       "      <td>3</td>\n",
       "      <td>978302109</td>\n",
       "      <td>james and the giant peach (1996)</td>\n",
       "    </tr>\n",
       "    <tr>\n",
       "      <th>2</th>\n",
       "      <td>1</td>\n",
       "      <td>914</td>\n",
       "      <td>3</td>\n",
       "      <td>978301968</td>\n",
       "      <td>my fair lady (1964)</td>\n",
       "    </tr>\n",
       "    <tr>\n",
       "      <th>3</th>\n",
       "      <td>1</td>\n",
       "      <td>3408</td>\n",
       "      <td>4</td>\n",
       "      <td>978300275</td>\n",
       "      <td>erin brockovich (2000)</td>\n",
       "    </tr>\n",
       "    <tr>\n",
       "      <th>4</th>\n",
       "      <td>1</td>\n",
       "      <td>2355</td>\n",
       "      <td>5</td>\n",
       "      <td>978824291</td>\n",
       "      <td>bug's life, a (1998)</td>\n",
       "    </tr>\n",
       "  </tbody>\n",
       "</table>\n",
       "</div>"
      ],
      "text/plain": [
       "   user_id  movie_id  counts  timestamp  \\\n",
       "0        1      1193       5  978300760   \n",
       "1        1       661       3  978302109   \n",
       "2        1       914       3  978301968   \n",
       "3        1      3408       4  978300275   \n",
       "4        1      2355       5  978824291   \n",
       "\n",
       "                                    title  \n",
       "0  one flew over the cuckoo's nest (1975)  \n",
       "1        james and the giant peach (1996)  \n",
       "2                     my fair lady (1964)  \n",
       "3                  erin brockovich (2000)  \n",
       "4                    bug's life, a (1998)  "
      ]
     },
     "execution_count": 35,
     "metadata": {},
     "output_type": "execute_result"
    }
   ],
   "source": [
    "# moive_id column을 기준으로 두 데이터 프레임 합치기\n",
    "data = pd.merge(ratings, movies, how='left', on='movie_id')\n",
    "data.head()"
   ]
  },
  {
   "cell_type": "code",
   "execution_count": 36,
   "id": "animal-relation",
   "metadata": {},
   "outputs": [
    {
     "data": {
      "text/html": [
       "<div>\n",
       "<style scoped>\n",
       "    .dataframe tbody tr th:only-of-type {\n",
       "        vertical-align: middle;\n",
       "    }\n",
       "\n",
       "    .dataframe tbody tr th {\n",
       "        vertical-align: top;\n",
       "    }\n",
       "\n",
       "    .dataframe thead th {\n",
       "        text-align: right;\n",
       "    }\n",
       "</style>\n",
       "<table border=\"1\" class=\"dataframe\">\n",
       "  <thead>\n",
       "    <tr style=\"text-align: right;\">\n",
       "      <th></th>\n",
       "      <th>user_id</th>\n",
       "      <th>movie_id</th>\n",
       "      <th>counts</th>\n",
       "      <th>title</th>\n",
       "    </tr>\n",
       "  </thead>\n",
       "  <tbody>\n",
       "    <tr>\n",
       "      <th>0</th>\n",
       "      <td>1</td>\n",
       "      <td>1193</td>\n",
       "      <td>5</td>\n",
       "      <td>one flew over the cuckoo's nest (1975)</td>\n",
       "    </tr>\n",
       "    <tr>\n",
       "      <th>1</th>\n",
       "      <td>1</td>\n",
       "      <td>661</td>\n",
       "      <td>3</td>\n",
       "      <td>james and the giant peach (1996)</td>\n",
       "    </tr>\n",
       "    <tr>\n",
       "      <th>2</th>\n",
       "      <td>1</td>\n",
       "      <td>914</td>\n",
       "      <td>3</td>\n",
       "      <td>my fair lady (1964)</td>\n",
       "    </tr>\n",
       "    <tr>\n",
       "      <th>3</th>\n",
       "      <td>1</td>\n",
       "      <td>3408</td>\n",
       "      <td>4</td>\n",
       "      <td>erin brockovich (2000)</td>\n",
       "    </tr>\n",
       "    <tr>\n",
       "      <th>4</th>\n",
       "      <td>1</td>\n",
       "      <td>2355</td>\n",
       "      <td>5</td>\n",
       "      <td>bug's life, a (1998)</td>\n",
       "    </tr>\n",
       "  </tbody>\n",
       "</table>\n",
       "</div>"
      ],
      "text/plain": [
       "   user_id  movie_id  counts                                   title\n",
       "0        1      1193       5  one flew over the cuckoo's nest (1975)\n",
       "1        1       661       3        james and the giant peach (1996)\n",
       "2        1       914       3                     my fair lady (1964)\n",
       "3        1      3408       4                  erin brockovich (2000)\n",
       "4        1      2355       5                    bug's life, a (1998)"
      ]
     },
     "execution_count": 36,
     "metadata": {},
     "output_type": "execute_result"
    }
   ],
   "source": [
    "# timestamp column제거\n",
    "data = data.drop(columns='timestamp')\n",
    "data.head()"
   ]
  },
  {
   "cell_type": "markdown",
   "id": "increased-arrival",
   "metadata": {},
   "source": [
    "## 3. 내가 선호하는 영화 5가지 골라서 ratings에 추가해주기"
   ]
  },
  {
   "cell_type": "code",
   "execution_count": 37,
   "id": "protected-limitation",
   "metadata": {},
   "outputs": [
    {
     "data": {
      "text/html": [
       "<div>\n",
       "<style scoped>\n",
       "    .dataframe tbody tr th:only-of-type {\n",
       "        vertical-align: middle;\n",
       "    }\n",
       "\n",
       "    .dataframe tbody tr th {\n",
       "        vertical-align: top;\n",
       "    }\n",
       "\n",
       "    .dataframe thead th {\n",
       "        text-align: right;\n",
       "    }\n",
       "</style>\n",
       "<table border=\"1\" class=\"dataframe\">\n",
       "  <thead>\n",
       "    <tr style=\"text-align: right;\">\n",
       "      <th></th>\n",
       "      <th>user_id</th>\n",
       "      <th>movie_id</th>\n",
       "      <th>counts</th>\n",
       "      <th>title</th>\n",
       "    </tr>\n",
       "  </thead>\n",
       "  <tbody>\n",
       "    <tr>\n",
       "      <th>836473</th>\n",
       "      <td>6040</td>\n",
       "      <td>1090.0</td>\n",
       "      <td>3</td>\n",
       "      <td>platoon (1986)</td>\n",
       "    </tr>\n",
       "    <tr>\n",
       "      <th>836474</th>\n",
       "      <td>6040</td>\n",
       "      <td>1094.0</td>\n",
       "      <td>5</td>\n",
       "      <td>crying game, the (1992)</td>\n",
       "    </tr>\n",
       "    <tr>\n",
       "      <th>836475</th>\n",
       "      <td>6040</td>\n",
       "      <td>562.0</td>\n",
       "      <td>5</td>\n",
       "      <td>welcome to the dollhouse (1995)</td>\n",
       "    </tr>\n",
       "    <tr>\n",
       "      <th>836476</th>\n",
       "      <td>6040</td>\n",
       "      <td>1096.0</td>\n",
       "      <td>4</td>\n",
       "      <td>sophie's choice (1982)</td>\n",
       "    </tr>\n",
       "    <tr>\n",
       "      <th>836477</th>\n",
       "      <td>6040</td>\n",
       "      <td>1097.0</td>\n",
       "      <td>4</td>\n",
       "      <td>e.t. the extra-terrestrial (1982)</td>\n",
       "    </tr>\n",
       "    <tr>\n",
       "      <th>0</th>\n",
       "      <td>sohee</td>\n",
       "      <td>NaN</td>\n",
       "      <td>5</td>\n",
       "      <td>my fair lady (1964)</td>\n",
       "    </tr>\n",
       "    <tr>\n",
       "      <th>1</th>\n",
       "      <td>sohee</td>\n",
       "      <td>NaN</td>\n",
       "      <td>5</td>\n",
       "      <td>sound of music, the (1965)</td>\n",
       "    </tr>\n",
       "    <tr>\n",
       "      <th>2</th>\n",
       "      <td>sohee</td>\n",
       "      <td>NaN</td>\n",
       "      <td>5</td>\n",
       "      <td>titanic (1997)</td>\n",
       "    </tr>\n",
       "    <tr>\n",
       "      <th>3</th>\n",
       "      <td>sohee</td>\n",
       "      <td>NaN</td>\n",
       "      <td>5</td>\n",
       "      <td>good will hunting (1997)</td>\n",
       "    </tr>\n",
       "    <tr>\n",
       "      <th>4</th>\n",
       "      <td>sohee</td>\n",
       "      <td>NaN</td>\n",
       "      <td>5</td>\n",
       "      <td>shakespeare in love (1998)</td>\n",
       "    </tr>\n",
       "  </tbody>\n",
       "</table>\n",
       "</div>"
      ],
      "text/plain": [
       "       user_id  movie_id  counts                              title\n",
       "836473    6040    1090.0       3                     platoon (1986)\n",
       "836474    6040    1094.0       5            crying game, the (1992)\n",
       "836475    6040     562.0       5    welcome to the dollhouse (1995)\n",
       "836476    6040    1096.0       4             sophie's choice (1982)\n",
       "836477    6040    1097.0       4  e.t. the extra-terrestrial (1982)\n",
       "0        sohee       NaN       5                my fair lady (1964)\n",
       "1        sohee       NaN       5         sound of music, the (1965)\n",
       "2        sohee       NaN       5                     titanic (1997)\n",
       "3        sohee       NaN       5           good will hunting (1997)\n",
       "4        sohee       NaN       5         shakespeare in love (1998)"
      ]
     },
     "execution_count": 37,
     "metadata": {},
     "output_type": "execute_result"
    }
   ],
   "source": [
    "# 내가 좋아하는 영화 추가\n",
    "my_favorite = ['my fair lady (1964)' , 'sound of music, the (1965)' ,'titanic (1997)' ,'good will hunting (1997)' ,'shakespeare in love (1998)']\n",
    "\n",
    "my_movielist = pd.DataFrame({'user_id': ['sohee']*5, 'title': my_favorite, 'counts':[5]*5})\n",
    "\n",
    "if not data.isin({'user_id':['sohee']})['user_id'].any():  # user_id에 'sohee'이라는 데이터가 없다면\n",
    "    data = data.append(my_movielist)                           # 위에 임의로 만든 my_favorite 데이터를 추가해 줍니다. \n",
    "\n",
    "data.tail(10)       # 잘 추가되었는지 확인해 봅시다."
   ]
  },
  {
   "cell_type": "markdown",
   "id": "rural-plaza",
   "metadata": {},
   "source": [
    "### indexing하기"
   ]
  },
  {
   "cell_type": "code",
   "execution_count": 38,
   "id": "attractive-turner",
   "metadata": {},
   "outputs": [],
   "source": [
    "# 고유한 유저와 영화의 개수\n",
    "user_unique = data['user_id'].unique()\n",
    "movie_unique = data['title'].unique()\n",
    "\n",
    "# 고유한 값의 개수만큼 유저 id와 영화 제목을 indexing\n",
    "user_to_idx = {v:k for k,v in enumerate(user_unique)}\n",
    "movie_to_idx = {v:k for k,v in enumerate(movie_unique)}"
   ]
  },
  {
   "cell_type": "code",
   "execution_count": 39,
   "id": "worse-pierre",
   "metadata": {},
   "outputs": [
    {
     "name": "stdout",
     "output_type": "stream",
     "text": [
      "user_id column indexing OK!!\n",
      "title column indexing OK!!\n"
     ]
    }
   ],
   "source": [
    "# indexing을 통해 데이터 컬럼 내 값을 바꾸는 코드\n",
    "# dictionary 자료형의 get 함수는 https://wikidocs.net/16 을 참고하세요.\n",
    "\n",
    "# user_to_idx.get을 통해 user_id 컬럼의 모든 값을 인덱싱한 Series를 구해 봅시다. \n",
    "# 혹시 정상적으로 인덱싱되지 않은 row가 있다면 인덱스가 NaN이 될 테니 dropna()로 제거합니다. \n",
    "temp_user_data = data['user_id'].map(user_to_idx.get).dropna()\n",
    "if len(temp_user_data) == len(data):   # 모든 row가 정상적으로 인덱싱되었다면\n",
    "    print('user_id column indexing OK!!')\n",
    "    data['user_id'] = temp_user_data   # data['user_id']을 인덱싱된 Series로 교체해 줍니다. \n",
    "else:\n",
    "    print('user_id column indexing Fail!!')\n",
    "\n",
    "# artist_to_idx을 통해 artist 컬럼도 동일한 방식으로 인덱싱해 줍니다. \n",
    "temp_movie_data = data['title'].map(movie_to_idx.get).dropna()\n",
    "if len(temp_movie_data) == len(data):\n",
    "    print('title column indexing OK!!')\n",
    "    data['title'] = temp_movie_data\n",
    "else:\n",
    "    print('title column indexing Fail!!')"
   ]
  },
  {
   "cell_type": "code",
   "execution_count": 40,
   "id": "cultural-wages",
   "metadata": {},
   "outputs": [
    {
     "data": {
      "text/html": [
       "<div>\n",
       "<style scoped>\n",
       "    .dataframe tbody tr th:only-of-type {\n",
       "        vertical-align: middle;\n",
       "    }\n",
       "\n",
       "    .dataframe tbody tr th {\n",
       "        vertical-align: top;\n",
       "    }\n",
       "\n",
       "    .dataframe thead th {\n",
       "        text-align: right;\n",
       "    }\n",
       "</style>\n",
       "<table border=\"1\" class=\"dataframe\">\n",
       "  <thead>\n",
       "    <tr style=\"text-align: right;\">\n",
       "      <th></th>\n",
       "      <th>user_id</th>\n",
       "      <th>movie_id</th>\n",
       "      <th>counts</th>\n",
       "      <th>title</th>\n",
       "    </tr>\n",
       "  </thead>\n",
       "  <tbody>\n",
       "    <tr>\n",
       "      <th>0</th>\n",
       "      <td>0</td>\n",
       "      <td>1193.0</td>\n",
       "      <td>5</td>\n",
       "      <td>0</td>\n",
       "    </tr>\n",
       "    <tr>\n",
       "      <th>1</th>\n",
       "      <td>0</td>\n",
       "      <td>661.0</td>\n",
       "      <td>3</td>\n",
       "      <td>1</td>\n",
       "    </tr>\n",
       "    <tr>\n",
       "      <th>2</th>\n",
       "      <td>0</td>\n",
       "      <td>914.0</td>\n",
       "      <td>3</td>\n",
       "      <td>2</td>\n",
       "    </tr>\n",
       "    <tr>\n",
       "      <th>3</th>\n",
       "      <td>0</td>\n",
       "      <td>3408.0</td>\n",
       "      <td>4</td>\n",
       "      <td>3</td>\n",
       "    </tr>\n",
       "    <tr>\n",
       "      <th>4</th>\n",
       "      <td>0</td>\n",
       "      <td>2355.0</td>\n",
       "      <td>5</td>\n",
       "      <td>4</td>\n",
       "    </tr>\n",
       "    <tr>\n",
       "      <th>...</th>\n",
       "      <td>...</td>\n",
       "      <td>...</td>\n",
       "      <td>...</td>\n",
       "      <td>...</td>\n",
       "    </tr>\n",
       "    <tr>\n",
       "      <th>0</th>\n",
       "      <td>6039</td>\n",
       "      <td>NaN</td>\n",
       "      <td>5</td>\n",
       "      <td>2</td>\n",
       "    </tr>\n",
       "    <tr>\n",
       "      <th>1</th>\n",
       "      <td>6039</td>\n",
       "      <td>NaN</td>\n",
       "      <td>5</td>\n",
       "      <td>14</td>\n",
       "    </tr>\n",
       "    <tr>\n",
       "      <th>2</th>\n",
       "      <td>6039</td>\n",
       "      <td>NaN</td>\n",
       "      <td>5</td>\n",
       "      <td>27</td>\n",
       "    </tr>\n",
       "    <tr>\n",
       "      <th>3</th>\n",
       "      <td>6039</td>\n",
       "      <td>NaN</td>\n",
       "      <td>5</td>\n",
       "      <td>248</td>\n",
       "    </tr>\n",
       "    <tr>\n",
       "      <th>4</th>\n",
       "      <td>6039</td>\n",
       "      <td>NaN</td>\n",
       "      <td>5</td>\n",
       "      <td>126</td>\n",
       "    </tr>\n",
       "  </tbody>\n",
       "</table>\n",
       "<p>836483 rows × 4 columns</p>\n",
       "</div>"
      ],
      "text/plain": [
       "    user_id  movie_id  counts  title\n",
       "0         0    1193.0       5      0\n",
       "1         0     661.0       3      1\n",
       "2         0     914.0       3      2\n",
       "3         0    3408.0       4      3\n",
       "4         0    2355.0       5      4\n",
       "..      ...       ...     ...    ...\n",
       "0      6039       NaN       5      2\n",
       "1      6039       NaN       5     14\n",
       "2      6039       NaN       5     27\n",
       "3      6039       NaN       5    248\n",
       "4      6039       NaN       5    126\n",
       "\n",
       "[836483 rows x 4 columns]"
      ]
     },
     "execution_count": 40,
     "metadata": {},
     "output_type": "execute_result"
    }
   ],
   "source": [
    "data"
   ]
  },
  {
   "cell_type": "markdown",
   "id": "lined-reminder",
   "metadata": {},
   "source": [
    "## 4. CSR matrix 만들어 봅시다."
   ]
  },
  {
   "cell_type": "code",
   "execution_count": 41,
   "id": "stone-association",
   "metadata": {},
   "outputs": [
    {
     "data": {
      "text/plain": [
       "<6040x3628 sparse matrix of type '<class 'numpy.longlong'>'\n",
       "\twith 836483 stored elements in Compressed Sparse Row format>"
      ]
     },
     "execution_count": 41,
     "metadata": {},
     "output_type": "execute_result"
    }
   ],
   "source": [
    "from scipy.sparse import csr_matrix\n",
    "\n",
    "num_user = data['user_id'].nunique()\n",
    "num_title = data['title'].nunique()\n",
    "\n",
    "csr_data = csr_matrix((data.counts, (data.user_id, data.title)), shape= (num_user, num_title))\n",
    "csr_data"
   ]
  },
  {
   "cell_type": "markdown",
   "id": "biological-confidence",
   "metadata": {},
   "source": [
    "## 5. als_model = AlternatingLeastSquares 모델을 직접 구성하여 훈련시켜 봅시다."
   ]
  },
  {
   "cell_type": "code",
   "execution_count": 42,
   "id": "coated-smoke",
   "metadata": {},
   "outputs": [],
   "source": [
    "from implicit.als import AlternatingLeastSquares\n",
    "import os\n",
    "import numpy as np\n",
    "\n",
    "# implicit 라이브러리에서 권장하고 있는 부분입니다. 학습 내용과는 무관합니다.\n",
    "os.environ['OPENBLAS_NUM_THREADS']='1'\n",
    "os.environ['KMP_DUPLICATE_LIB_OK']='True'\n",
    "os.environ['MKL_NUM_THREADS']='1'"
   ]
  },
  {
   "cell_type": "code",
   "execution_count": 43,
   "id": "physical-boards",
   "metadata": {},
   "outputs": [],
   "source": [
    "# Implicit AlternatingLeastSquares 모델의 선언\n",
    "als_model = AlternatingLeastSquares(factors=100, regularization=0.01, use_gpu=False, iterations=15, dtype=np.float32)"
   ]
  },
  {
   "cell_type": "code",
   "execution_count": 45,
   "id": "sustainable-concentration",
   "metadata": {},
   "outputs": [
    {
     "data": {
      "text/plain": [
       "<3628x6040 sparse matrix of type '<class 'numpy.longlong'>'\n",
       "\twith 836483 stored elements in Compressed Sparse Column format>"
      ]
     },
     "execution_count": 45,
     "metadata": {},
     "output_type": "execute_result"
    }
   ],
   "source": [
    "# als 모델은 input으로 (item X user 꼴의 matrix를 받기 때문에 Transpose해줍니다.)\n",
    "csr_data_transpose = csr_data.T\n",
    "csr_data_transpose"
   ]
  },
  {
   "cell_type": "code",
   "execution_count": 46,
   "id": "described-reunion",
   "metadata": {},
   "outputs": [
    {
     "data": {
      "application/vnd.jupyter.widget-view+json": {
       "model_id": "8601745150e74ace9063f914f5c6f175",
       "version_major": 2,
       "version_minor": 0
      },
      "text/plain": [
       "  0%|          | 0/15 [00:00<?, ?it/s]"
      ]
     },
     "metadata": {},
     "output_type": "display_data"
    }
   ],
   "source": [
    "# 모델 훈련\n",
    "als_model.fit(csr_data_transpose)"
   ]
  },
  {
   "cell_type": "markdown",
   "id": "downtown-discretion",
   "metadata": {},
   "source": [
    "## 6. 내가 선호하는 5가지 영화 중 하나와 그 외의 영화 하나를 골라 훈련된 모델이 예측한 나의 선호도를 파악해 보세요."
   ]
  },
  {
   "cell_type": "code",
   "execution_count": 47,
   "id": "greenhouse-thanksgiving",
   "metadata": {},
   "outputs": [],
   "source": [
    "sohee, sound_of_music = user_to_idx['sohee'], movie_to_idx['sound of music, the (1965)']\n",
    "sohee_vector, sound_of_music_vector = als_model.user_factors[sohee], als_model.item_factors[sound_of_music]"
   ]
  },
  {
   "cell_type": "code",
   "execution_count": 48,
   "id": "juvenile-provider",
   "metadata": {},
   "outputs": [
    {
     "data": {
      "text/plain": [
       "array([-0.0407443 , -0.47038043, -0.319228  ,  0.7739264 , -0.6114146 ,\n",
       "       -0.07843304,  0.22358757, -0.17424056, -0.06280997, -1.6536179 ,\n",
       "       -0.8990993 ,  1.4982452 ,  0.17609742, -0.15680547,  0.17346899,\n",
       "       -0.3160995 , -0.28575066,  0.5414212 , -0.39547384, -0.21760209,\n",
       "       -0.5946166 , -0.38404295, -0.0584325 , -0.9007759 , -1.0149742 ,\n",
       "        0.34196326, -0.36116695,  0.7891241 ,  0.39476773, -0.14183386,\n",
       "        0.07633448,  0.65553707, -0.23906077,  0.23433994, -0.3450874 ,\n",
       "       -0.23368844, -0.3502244 , -0.40163067,  0.44192648, -0.02517639,\n",
       "       -1.2431955 , -0.273361  , -0.11338037,  0.21663466, -0.0663556 ,\n",
       "       -0.34730393,  0.27337965,  0.18086238,  0.05731833,  0.41701505,\n",
       "       -0.33876804,  0.58396196, -0.50262785,  0.81055945,  1.0147271 ,\n",
       "        0.9553421 ,  0.824864  ,  0.21087486, -0.9396447 ,  0.18101841,\n",
       "       -0.06395274, -0.4000018 ,  0.9120992 , -0.02251255,  0.20923497,\n",
       "       -0.05462374, -0.12985861, -0.11255916,  0.23380128,  0.1930939 ,\n",
       "        0.00218226,  0.67904305, -0.06754305, -0.16225296,  0.19185548,\n",
       "       -0.1404003 , -0.32006463, -0.2113651 , -0.17981048,  0.00868579,\n",
       "        1.2166717 ,  0.29337946,  0.36663496,  0.8351504 ,  0.31849423,\n",
       "        0.5343743 ,  0.30745023,  0.34970206, -0.50984466,  0.68904835,\n",
       "        0.0533715 ,  0.36649397,  0.4545562 ,  0.19662125,  0.09443009,\n",
       "       -0.05681465, -0.20767649, -0.13714464, -0.3852187 , -1.2895756 ],\n",
       "      dtype=float32)"
      ]
     },
     "execution_count": 48,
     "metadata": {},
     "output_type": "execute_result"
    }
   ],
   "source": [
    "sohee_vector"
   ]
  },
  {
   "cell_type": "code",
   "execution_count": 49,
   "id": "solved-exploration",
   "metadata": {},
   "outputs": [
    {
     "data": {
      "text/plain": [
       "array([-0.0049064 ,  0.01381234,  0.00102237,  0.01250201, -0.011949  ,\n",
       "       -0.0072758 ,  0.02079958,  0.03141396,  0.02331093, -0.05394202,\n",
       "        0.02000731,  0.00617657,  0.0158338 ,  0.03308121, -0.00690179,\n",
       "        0.00393177,  0.01481263,  0.03375267,  0.00145358, -0.02101548,\n",
       "       -0.0043182 ,  0.01584709, -0.03017683,  0.00603617, -0.00967421,\n",
       "        0.00240028, -0.02284618,  0.02879436, -0.00467109, -0.00780432,\n",
       "        0.00936163,  0.02766618, -0.01006295,  0.0088481 , -0.00148857,\n",
       "       -0.00280698, -0.00057864, -0.00371974, -0.00788108,  0.00608694,\n",
       "       -0.02124172, -0.01820607,  0.00626158, -0.00600246, -0.00446349,\n",
       "        0.00272359,  0.02869349,  0.00815811, -0.00860122,  0.02696431,\n",
       "        0.00639974,  0.02275073, -0.03427886,  0.01462727,  0.0016165 ,\n",
       "        0.05048199,  0.03927407, -0.00818891, -0.00166542, -0.00545597,\n",
       "        0.00420301,  0.00549571,  0.02469152,  0.0223841 , -0.02147356,\n",
       "        0.00395082, -0.01268552,  0.014567  , -0.01321593, -0.00087739,\n",
       "        0.02129129,  0.01132345, -0.00605589,  0.01890177,  0.02095232,\n",
       "        0.01465271, -0.01719282,  0.00831464, -0.00065376,  0.01047661,\n",
       "        0.02933621, -0.00810485,  0.02148784,  0.03693954,  0.00750147,\n",
       "        0.04061215,  0.00300259,  0.01334458, -0.01099731,  0.01630044,\n",
       "        0.00803424,  0.01686302, -0.00124603,  0.02841246, -0.00148045,\n",
       "       -0.02385436, -0.0027388 ,  0.00990972,  0.00271174, -0.02083906],\n",
       "      dtype=float32)"
      ]
     },
     "execution_count": 49,
     "metadata": {},
     "output_type": "execute_result"
    }
   ],
   "source": [
    "sound_of_music_vector"
   ]
  },
  {
   "cell_type": "code",
   "execution_count": 50,
   "id": "toxic-extension",
   "metadata": {},
   "outputs": [
    {
     "data": {
      "text/plain": [
       "0.5076943"
      ]
     },
     "execution_count": 50,
     "metadata": {},
     "output_type": "execute_result"
    }
   ],
   "source": [
    "np.dot(sohee_vector, sound_of_music_vector)"
   ]
  },
  {
   "cell_type": "code",
   "execution_count": 73,
   "id": "grateful-blast",
   "metadata": {},
   "outputs": [
    {
     "data": {
      "text/plain": [
       "0.022256348"
      ]
     },
     "execution_count": 73,
     "metadata": {},
     "output_type": "execute_result"
    }
   ],
   "source": [
    "#선호 리스트에 없는 영화 선호도 예측\n",
    "platoon = movie_to_idx['platoon (1986)']\n",
    "platoon_vector = als_model.item_factors[platoon]\n",
    "np.dot(sohee_vector, platoon_vector)"
   ]
  },
  {
   "cell_type": "markdown",
   "id": "limited-desperate",
   "metadata": {},
   "source": [
    "## 7. 내가 좋아하는 영화와 비슷한 영화를 추천받아 봅시다."
   ]
  },
  {
   "cell_type": "code",
   "execution_count": 68,
   "id": "photographic-prior",
   "metadata": {},
   "outputs": [
    {
     "data": {
      "text/plain": [
       "[(14, 0.9999999),\n",
       " (354, 0.6414612),\n",
       " (1844, 0.63136166),\n",
       " (2, 0.6307245),\n",
       " (1355, 0.55556256),\n",
       " (45, 0.5466581),\n",
       " (1107, 0.48876166),\n",
       " (658, 0.48047954),\n",
       " (320, 0.4734753),\n",
       " (11, 0.46720663),\n",
       " (8, 0.4448823),\n",
       " (589, 0.43787366),\n",
       " (409, 0.43466222),\n",
       " (925, 0.43263352),\n",
       " (2106, 0.43057352)]"
      ]
     },
     "execution_count": 68,
     "metadata": {},
     "output_type": "execute_result"
    }
   ],
   "source": [
    "favorite_movie = 'sound of music, the (1965)'\n",
    "movie_id = movie_to_idx[favorite_movie]\n",
    "similar_movie = als_model.similar_items(movie_id, N=15)\n",
    "similar_movie"
   ]
  },
  {
   "cell_type": "code",
   "execution_count": 69,
   "id": "unknown-halloween",
   "metadata": {},
   "outputs": [
    {
     "data": {
      "text/plain": [
       "['sound of music, the (1965)',\n",
       " 'west side story (1961)',\n",
       " 'oliver! (1968)',\n",
       " 'my fair lady (1964)',\n",
       " 'king and i, the (1956)',\n",
       " 'mary poppins (1964)',\n",
       " \"rosemary's baby (1968)\",\n",
       " 'white christmas (1954)',\n",
       " 'bob roberts (1992)',\n",
       " 'gigi (1958)',\n",
       " 'snow white and the seven dwarfs (1937)',\n",
       " 'meet me in st. louis (1944)',\n",
       " 'rudy (1993)',\n",
       " 'fantastic voyage (1966)',\n",
       " 'phantom of the opera, the (1943)']"
      ]
     },
     "execution_count": 69,
     "metadata": {},
     "output_type": "execute_result"
    }
   ],
   "source": [
    "#movie_to_idx 를 뒤집어, index로부터 moive이름을 얻는 dict를 생성합니다. \n",
    "idx_to_movie = {v:k for k,v in movie_to_idx.items()}\n",
    "[idx_to_movie[i[0]] for i in similar_movie]"
   ]
  },
  {
   "cell_type": "code",
   "execution_count": 70,
   "id": "bacterial-produce",
   "metadata": {},
   "outputs": [],
   "source": [
    "def get_similar_movie(movie_title: str):\n",
    "    movie_id = movie_to_idx[movie_title]\n",
    "    similar_movie = als_model.similar_items(movie_id)\n",
    "    similar_movie = [idx_to_movie[i[0]] for i in similar_movie]\n",
    "    return similar_movie"
   ]
  },
  {
   "cell_type": "code",
   "execution_count": 71,
   "id": "beautiful-paint",
   "metadata": {},
   "outputs": [
    {
     "data": {
      "text/plain": [
       "['sleepless in seattle (1993)',\n",
       " 'pretty woman (1990)',\n",
       " \"you've got mail (1998)\",\n",
       " \"my best friend's wedding (1997)\",\n",
       " 'while you were sleeping (1995)',\n",
       " 'notting hill (1999)',\n",
       " 'sabrina (1995)',\n",
       " 'truth about cats & dogs, the (1996)',\n",
       " 'ghost (1990)',\n",
       " 'mrs. doubtfire (1993)']"
      ]
     },
     "execution_count": 71,
     "metadata": {},
     "output_type": "execute_result"
    }
   ],
   "source": [
    "get_similar_movie('sleepless in seattle (1993)')"
   ]
  },
  {
   "cell_type": "code",
   "execution_count": 72,
   "id": "optimum-diameter",
   "metadata": {},
   "outputs": [
    {
     "data": {
      "text/plain": [
       "['toy story (1995)',\n",
       " 'toy story 2 (1999)',\n",
       " 'babe (1995)',\n",
       " 'aladdin (1992)',\n",
       " \"bug's life, a (1998)\",\n",
       " 'groundhog day (1993)',\n",
       " 'lion king, the (1994)',\n",
       " \"there's something about mary (1998)\",\n",
       " 'beauty and the beast (1991)',\n",
       " 'pleasantville (1998)']"
      ]
     },
     "execution_count": 72,
     "metadata": {},
     "output_type": "execute_result"
    }
   ],
   "source": [
    "get_similar_movie('toy story (1995)')"
   ]
  },
  {
   "cell_type": "markdown",
   "id": "occupational-astronomy",
   "metadata": {},
   "source": [
    "## 8.  내가 가장 좋아할 만한 영화들을 추천받아 봅시다."
   ]
  },
  {
   "cell_type": "code",
   "execution_count": 66,
   "id": "fancy-victoria",
   "metadata": {},
   "outputs": [
    {
     "data": {
      "text/plain": [
       "[(354, 0.41348743),\n",
       " (38, 0.3149206),\n",
       " (384, 0.3146029),\n",
       " (143, 0.28562167),\n",
       " (663, 0.2736727),\n",
       " (99, 0.26170522),\n",
       " (381, 0.26125613),\n",
       " (39, 0.25552684),\n",
       " (41, 0.2513211),\n",
       " (450, 0.24738201),\n",
       " (1355, 0.24624705),\n",
       " (3, 0.23846376),\n",
       " (357, 0.23824587),\n",
       " (636, 0.23609667),\n",
       " (110, 0.23498814),\n",
       " (45, 0.21753728),\n",
       " (9, 0.21460737),\n",
       " (157, 0.21402735),\n",
       " (1844, 0.21343006),\n",
       " (385, 0.20254976)]"
      ]
     },
     "execution_count": 66,
     "metadata": {},
     "output_type": "execute_result"
    }
   ],
   "source": [
    "user = user_to_idx['sohee']\n",
    "# recommend에서는 user*item CSR Matrix를 받습니다.\n",
    "movie_recommended = als_model.recommend(user, csr_data, N=20, filter_already_liked_items=True)\n",
    "movie_recommended"
   ]
  },
  {
   "cell_type": "code",
   "execution_count": 67,
   "id": "headed-guinea",
   "metadata": {},
   "outputs": [
    {
     "data": {
      "text/plain": [
       "['west side story (1961)',\n",
       " 'sixth sense, the (1999)',\n",
       " 'jerry maguire (1996)',\n",
       " 'gone with the wind (1939)',\n",
       " \"singin' in the rain (1952)\",\n",
       " 'american beauty (1999)',\n",
       " 'elizabeth (1998)',\n",
       " 'apollo 13 (1995)',\n",
       " 'rain man (1988)',\n",
       " 'life is beautiful (la vita è bella) (1997)',\n",
       " 'king and i, the (1956)',\n",
       " 'erin brockovich (2000)',\n",
       " 'sense and sensibility (1995)',\n",
       " 'romeo and juliet (1968)',\n",
       " 'groundhog day (1993)',\n",
       " 'mary poppins (1964)',\n",
       " 'wizard of oz, the (1939)',\n",
       " 'shawshank redemption, the (1994)',\n",
       " 'oliver! (1968)',\n",
       " 'truman show, the (1998)']"
      ]
     },
     "execution_count": 67,
     "metadata": {},
     "output_type": "execute_result"
    }
   ],
   "source": [
    "[idx_to_movie[i[0]] for i in movie_recommended]"
   ]
  },
  {
   "cell_type": "markdown",
   "id": "supreme-holiday",
   "metadata": {},
   "source": [
    "## 9. 회고록"
   ]
  },
  {
   "cell_type": "markdown",
   "id": "following-outreach",
   "metadata": {},
   "source": [
    "1. 전체적인 흐름은 이전의 실습과 비슷하게 진행되어 큰 어려움은 없었다. 다만, csr_matrix라는 생소한 개념으로 인해 내용을 이해하는 것이 어려웠다. 그래도, 추천 시스템의 기본이 되는 개념이니 다시 한 번 복습해야겠다. \n",
    "\n",
    "\n",
    "2. 모델의 성능에 관해서는 선호도 리스트에 있는 영화와의 선호도는 0.507정도였고, 선호도 리스트에 없는 영화의 경우에는 0.022정도로 굉장히 차이가 많이 나서 성능이 꽤 괜찮은 것 같다. \n",
    "\n",
    "\n",
    "3. 비슷한 영화 추천에 있어서는 우선적으로 장르적 특성을 강하게 가진 영화를 favorite에 넣으면 굉장히 비슷한 영화를 추천해주었다. 고전 뮤지컬 영화인 사운드 오브 뮤직을 넣어주면 그와 비슷한 뮤지컬 영화들이, 애니메이션 영화인 토이스토리를 넣어주면 그와 비슷한 애니메이션들이 비슷한 영화로 추천되었다. 하지만 영화가 장르가 뚜렷하지 않을 때에는 비슷한 영화라고 하기엔 어려운 영화들도 종종 뜨는 것을 확인할 수 있었다. \n",
    "\n",
    "\n",
    "4. 내가 좋아할 만한 영화에는 꽤나 정확하게 보고싶은 영화들의 리스트를 반환하였다.\n",
    "\n",
    "\n",
    "5. 이번 프로젝트를 진행하면서 추천시스템에 대한 공부를 해보고 싶어졌다. "
   ]
  },
  {
   "cell_type": "code",
   "execution_count": null,
   "id": "seeing-decline",
   "metadata": {},
   "outputs": [],
   "source": []
  }
 ],
 "metadata": {
  "kernelspec": {
   "display_name": "Python 3",
   "language": "python",
   "name": "python3"
  },
  "language_info": {
   "codemirror_mode": {
    "name": "ipython",
    "version": 3
   },
   "file_extension": ".py",
   "mimetype": "text/x-python",
   "name": "python",
   "nbconvert_exporter": "python",
   "pygments_lexer": "ipython3",
   "version": "3.7.9"
  }
 },
 "nbformat": 4,
 "nbformat_minor": 5
}
