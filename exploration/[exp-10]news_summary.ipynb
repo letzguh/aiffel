{
 "cells": [
  {
   "cell_type": "markdown",
   "id": "placed-lodge",
   "metadata": {},
   "source": [
    "## 1. 데이터 수집하기"
   ]
  },
  {
   "cell_type": "code",
   "execution_count": 1,
   "id": "outer-justice",
   "metadata": {},
   "outputs": [
    {
     "name": "stderr",
     "output_type": "stream",
     "text": [
      "[nltk_data] Downloading package stopwords to /aiffel/nltk_data...\n",
      "[nltk_data]   Package stopwords is already up-to-date!\n"
     ]
    }
   ],
   "source": [
    "import nltk\n",
    "nltk.download('stopwords')\n",
    "\n",
    "import numpy as np\n",
    "import pandas as pd\n",
    "import os\n",
    "import re\n",
    "import matplotlib.pyplot as plt\n",
    "from nltk.corpus import stopwords\n",
    "from bs4 import BeautifulSoup \n",
    "from tensorflow.keras.preprocessing.text import Tokenizer \n",
    "from tensorflow.keras.preprocessing.sequence import pad_sequences\n",
    "import urllib.request"
   ]
  },
  {
   "cell_type": "code",
   "execution_count": 2,
   "id": "spread-radio",
   "metadata": {},
   "outputs": [],
   "source": [
    "import urllib.request\n",
    "urllib.request.urlretrieve(\"https://raw.githubusercontent.com/sunnysai12345/News_Summary/master/news_summary_more.csv\", filename=\"news_summary_more.csv\")\n",
    "data = pd.read_csv('news_summary_more.csv', encoding='iso-8859-1')"
   ]
  },
  {
   "cell_type": "code",
   "execution_count": 3,
   "id": "integrated-effectiveness",
   "metadata": {},
   "outputs": [
    {
     "data": {
      "text/html": [
       "<div>\n",
       "<style scoped>\n",
       "    .dataframe tbody tr th:only-of-type {\n",
       "        vertical-align: middle;\n",
       "    }\n",
       "\n",
       "    .dataframe tbody tr th {\n",
       "        vertical-align: top;\n",
       "    }\n",
       "\n",
       "    .dataframe thead th {\n",
       "        text-align: right;\n",
       "    }\n",
       "</style>\n",
       "<table border=\"1\" class=\"dataframe\">\n",
       "  <thead>\n",
       "    <tr style=\"text-align: right;\">\n",
       "      <th></th>\n",
       "      <th>headlines</th>\n",
       "      <th>text</th>\n",
       "    </tr>\n",
       "  </thead>\n",
       "  <tbody>\n",
       "    <tr>\n",
       "      <th>73548</th>\n",
       "      <td>18-yr-old Rashid Khan gets marriage proposal d...</td>\n",
       "      <td>Afghanistan's 18-year-old spinner Rashid Khan ...</td>\n",
       "    </tr>\n",
       "    <tr>\n",
       "      <th>9013</th>\n",
       "      <td>400 districts to have city gas in 2-3 years: P...</td>\n",
       "      <td>Prime Minister Narendra Modi on Thursday said ...</td>\n",
       "    </tr>\n",
       "    <tr>\n",
       "      <th>9032</th>\n",
       "      <td>Brexit transition period can be extended till ...</td>\n",
       "      <td>The Brexit transition period due to end in Dec...</td>\n",
       "    </tr>\n",
       "    <tr>\n",
       "      <th>87711</th>\n",
       "      <td>I-T dept attached properties of Ã¢ÂÂ¹600 cror...</td>\n",
       "      <td>The Income Tax Department on Wednesday said it...</td>\n",
       "    </tr>\n",
       "    <tr>\n",
       "      <th>11871</th>\n",
       "      <td>Policewoman who took 6-month-old baby to work ...</td>\n",
       "      <td>After a picture of police constable Archana Si...</td>\n",
       "    </tr>\n",
       "    <tr>\n",
       "      <th>81250</th>\n",
       "      <td>CBI books travel agent for sending illegal wor...</td>\n",
       "      <td>The Central Bureau of Investigation (CBI) has ...</td>\n",
       "    </tr>\n",
       "    <tr>\n",
       "      <th>14577</th>\n",
       "      <td>Kerala Cong demands review petition on Sabarim...</td>\n",
       "      <td>The Kerala Congress on Friday launched a prote...</td>\n",
       "    </tr>\n",
       "    <tr>\n",
       "      <th>76761</th>\n",
       "      <td>We are not going to copy Tesla: Anand Mahindra</td>\n",
       "      <td>Mahindra Group Chairman Anand Mahindra has ass...</td>\n",
       "    </tr>\n",
       "    <tr>\n",
       "      <th>76922</th>\n",
       "      <td>M Venkaiah Naidu elected India's 15th Vice-Pre...</td>\n",
       "      <td>BJP-led NDA's candidate and former Union Minis...</td>\n",
       "    </tr>\n",
       "    <tr>\n",
       "      <th>60498</th>\n",
       "      <td>Bill Gates to help UP government in tackling e...</td>\n",
       "      <td>Microsoft Founder Bill Gates who met Uttar Pra...</td>\n",
       "    </tr>\n",
       "  </tbody>\n",
       "</table>\n",
       "</div>"
      ],
      "text/plain": [
       "                                               headlines  \\\n",
       "73548  18-yr-old Rashid Khan gets marriage proposal d...   \n",
       "9013   400 districts to have city gas in 2-3 years: P...   \n",
       "9032   Brexit transition period can be extended till ...   \n",
       "87711  I-T dept attached properties of Ã¢ÂÂ¹600 cror...   \n",
       "11871  Policewoman who took 6-month-old baby to work ...   \n",
       "81250  CBI books travel agent for sending illegal wor...   \n",
       "14577  Kerala Cong demands review petition on Sabarim...   \n",
       "76761     We are not going to copy Tesla: Anand Mahindra   \n",
       "76922  M Venkaiah Naidu elected India's 15th Vice-Pre...   \n",
       "60498  Bill Gates to help UP government in tackling e...   \n",
       "\n",
       "                                                    text  \n",
       "73548  Afghanistan's 18-year-old spinner Rashid Khan ...  \n",
       "9013   Prime Minister Narendra Modi on Thursday said ...  \n",
       "9032   The Brexit transition period due to end in Dec...  \n",
       "87711  The Income Tax Department on Wednesday said it...  \n",
       "11871  After a picture of police constable Archana Si...  \n",
       "81250  The Central Bureau of Investigation (CBI) has ...  \n",
       "14577  The Kerala Congress on Friday launched a prote...  \n",
       "76761  Mahindra Group Chairman Anand Mahindra has ass...  \n",
       "76922  BJP-led NDA's candidate and former Union Minis...  \n",
       "60498  Microsoft Founder Bill Gates who met Uttar Pra...  "
      ]
     },
     "execution_count": 3,
     "metadata": {},
     "output_type": "execute_result"
    }
   ],
   "source": [
    "data.sample(10)"
   ]
  },
  {
   "cell_type": "markdown",
   "id": "interesting-concept",
   "metadata": {},
   "source": [
    "## 2. 데이터 전처리하기"
   ]
  },
  {
   "cell_type": "markdown",
   "id": "confused-resource",
   "metadata": {},
   "source": [
    "### 2-1. 중복 샘플과 NULL 값이 존재하는 샘플 제거"
   ]
  },
  {
   "cell_type": "code",
   "execution_count": 4,
   "id": "domestic-gibraltar",
   "metadata": {},
   "outputs": [
    {
     "name": "stdout",
     "output_type": "stream",
     "text": [
      "Text 열에서 중복을 배제한 유일한 샘플의 수 : 98360\n",
      "headlines 열에서 중복을 배제한 유일한 샘플의 수 : 98280\n"
     ]
    }
   ],
   "source": [
    "print('Text 열에서 중복을 배제한 유일한 샘플의 수 :', data['text'].nunique())\n",
    "print('headlines 열에서 중복을 배제한 유일한 샘플의 수 :', data['headlines'].nunique())"
   ]
  },
  {
   "cell_type": "code",
   "execution_count": 5,
   "id": "raising-baseline",
   "metadata": {},
   "outputs": [
    {
     "name": "stdout",
     "output_type": "stream",
     "text": [
      "전체 샘플수 : 98360\n"
     ]
    }
   ],
   "source": [
    "data.drop_duplicates(subset = ['text'], inplace=True)\n",
    "print('전체 샘플수 :', (len(data)))"
   ]
  },
  {
   "cell_type": "code",
   "execution_count": 6,
   "id": "fabulous-music",
   "metadata": {},
   "outputs": [
    {
     "name": "stdout",
     "output_type": "stream",
     "text": [
      "headlines    0\n",
      "text         0\n",
      "dtype: int64\n"
     ]
    }
   ],
   "source": [
    "print(data.isnull().sum())"
   ]
  },
  {
   "cell_type": "markdown",
   "id": "equal-topic",
   "metadata": {},
   "source": [
    "### 2-2. 텍스트 정규화와 불용어 제거"
   ]
  },
  {
   "cell_type": "code",
   "execution_count": 7,
   "id": "excited-canon",
   "metadata": {},
   "outputs": [
    {
     "name": "stdout",
     "output_type": "stream",
     "text": [
      "정규화 사전의 수:  120\n"
     ]
    }
   ],
   "source": [
    "contractions = {\"ain't\": \"is not\", \"aren't\": \"are not\",\"can't\": \"cannot\", \"'cause\": \"because\", \"could've\": \"could have\", \"couldn't\": \"could not\",\n",
    "                           \"didn't\": \"did not\",  \"doesn't\": \"does not\", \"don't\": \"do not\", \"hadn't\": \"had not\", \"hasn't\": \"has not\", \"haven't\": \"have not\",\n",
    "                           \"he'd\": \"he would\",\"he'll\": \"he will\", \"he's\": \"he is\", \"how'd\": \"how did\", \"how'd'y\": \"how do you\", \"how'll\": \"how will\", \"how's\": \"how is\",\n",
    "                           \"I'd\": \"I would\", \"I'd've\": \"I would have\", \"I'll\": \"I will\", \"I'll've\": \"I will have\",\"I'm\": \"I am\", \"I've\": \"I have\", \"i'd\": \"i would\",\n",
    "                           \"i'd've\": \"i would have\", \"i'll\": \"i will\",  \"i'll've\": \"i will have\",\"i'm\": \"i am\", \"i've\": \"i have\", \"isn't\": \"is not\", \"it'd\": \"it would\",\n",
    "                           \"it'd've\": \"it would have\", \"it'll\": \"it will\", \"it'll've\": \"it will have\",\"it's\": \"it is\", \"let's\": \"let us\", \"ma'am\": \"madam\",\n",
    "                           \"mayn't\": \"may not\", \"might've\": \"might have\",\"mightn't\": \"might not\",\"mightn't've\": \"might not have\", \"must've\": \"must have\",\n",
    "                           \"mustn't\": \"must not\", \"mustn't've\": \"must not have\", \"needn't\": \"need not\", \"needn't've\": \"need not have\",\"o'clock\": \"of the clock\",\n",
    "                           \"oughtn't\": \"ought not\", \"oughtn't've\": \"ought not have\", \"shan't\": \"shall not\", \"sha'n't\": \"shall not\", \"shan't've\": \"shall not have\",\n",
    "                           \"she'd\": \"she would\", \"she'd've\": \"she would have\", \"she'll\": \"she will\", \"she'll've\": \"she will have\", \"she's\": \"she is\",\n",
    "                           \"should've\": \"should have\", \"shouldn't\": \"should not\", \"shouldn't've\": \"should not have\", \"so've\": \"so have\",\"so's\": \"so as\",\n",
    "                           \"this's\": \"this is\",\"that'd\": \"that would\", \"that'd've\": \"that would have\", \"that's\": \"that is\", \"there'd\": \"there would\",\n",
    "                           \"there'd've\": \"there would have\", \"there's\": \"there is\", \"here's\": \"here is\",\"they'd\": \"they would\", \"they'd've\": \"they would have\",\n",
    "                           \"they'll\": \"they will\", \"they'll've\": \"they will have\", \"they're\": \"they are\", \"they've\": \"they have\", \"to've\": \"to have\",\n",
    "                           \"wasn't\": \"was not\", \"we'd\": \"we would\", \"we'd've\": \"we would have\", \"we'll\": \"we will\", \"we'll've\": \"we will have\", \"we're\": \"we are\",\n",
    "                           \"we've\": \"we have\", \"weren't\": \"were not\", \"what'll\": \"what will\", \"what'll've\": \"what will have\", \"what're\": \"what are\",\n",
    "                           \"what's\": \"what is\", \"what've\": \"what have\", \"when's\": \"when is\", \"when've\": \"when have\", \"where'd\": \"where did\", \"where's\": \"where is\",\n",
    "                           \"where've\": \"where have\", \"who'll\": \"who will\", \"who'll've\": \"who will have\", \"who's\": \"who is\", \"who've\": \"who have\",\n",
    "                           \"why's\": \"why is\", \"why've\": \"why have\", \"will've\": \"will have\", \"won't\": \"will not\", \"won't've\": \"will not have\",\n",
    "                           \"would've\": \"would have\", \"wouldn't\": \"would not\", \"wouldn't've\": \"would not have\", \"y'all\": \"you all\",\n",
    "                           \"y'all'd\": \"you all would\",\"y'all'd've\": \"you all would have\",\"y'all're\": \"you all are\",\"y'all've\": \"you all have\",\n",
    "                           \"you'd\": \"you would\", \"you'd've\": \"you would have\", \"you'll\": \"you will\", \"you'll've\": \"you will have\",\n",
    "                           \"you're\": \"you are\", \"you've\": \"you have\"}\n",
    "\n",
    "print(\"정규화 사전의 수: \", len(contractions))"
   ]
  },
  {
   "cell_type": "code",
   "execution_count": 8,
   "id": "adaptive-egyptian",
   "metadata": {},
   "outputs": [
    {
     "name": "stdout",
     "output_type": "stream",
     "text": [
      "불용어 개수 : 179\n",
      "['i', 'me', 'my', 'myself', 'we', 'our', 'ours', 'ourselves', 'you', \"you're\", \"you've\", \"you'll\", \"you'd\", 'your', 'yours', 'yourself', 'yourselves', 'he', 'him', 'his', 'himself', 'she', \"she's\", 'her', 'hers', 'herself', 'it', \"it's\", 'its', 'itself', 'they', 'them', 'their', 'theirs', 'themselves', 'what', 'which', 'who', 'whom', 'this', 'that', \"that'll\", 'these', 'those', 'am', 'is', 'are', 'was', 'were', 'be', 'been', 'being', 'have', 'has', 'had', 'having', 'do', 'does', 'did', 'doing', 'a', 'an', 'the', 'and', 'but', 'if', 'or', 'because', 'as', 'until', 'while', 'of', 'at', 'by', 'for', 'with', 'about', 'against', 'between', 'into', 'through', 'during', 'before', 'after', 'above', 'below', 'to', 'from', 'up', 'down', 'in', 'out', 'on', 'off', 'over', 'under', 'again', 'further', 'then', 'once', 'here', 'there', 'when', 'where', 'why', 'how', 'all', 'any', 'both', 'each', 'few', 'more', 'most', 'other', 'some', 'such', 'no', 'nor', 'not', 'only', 'own', 'same', 'so', 'than', 'too', 'very', 's', 't', 'can', 'will', 'just', 'don', \"don't\", 'should', \"should've\", 'now', 'd', 'll', 'm', 'o', 're', 've', 'y', 'ain', 'aren', \"aren't\", 'couldn', \"couldn't\", 'didn', \"didn't\", 'doesn', \"doesn't\", 'hadn', \"hadn't\", 'hasn', \"hasn't\", 'haven', \"haven't\", 'isn', \"isn't\", 'ma', 'mightn', \"mightn't\", 'mustn', \"mustn't\", 'needn', \"needn't\", 'shan', \"shan't\", 'shouldn', \"shouldn't\", 'wasn', \"wasn't\", 'weren', \"weren't\", 'won', \"won't\", 'wouldn', \"wouldn't\"]\n"
     ]
    }
   ],
   "source": [
    "print('불용어 개수 :', len(stopwords.words('english') ))\n",
    "print(stopwords.words('english'))"
   ]
  },
  {
   "cell_type": "code",
   "execution_count": 9,
   "id": "enabling-career",
   "metadata": {},
   "outputs": [],
   "source": [
    "# 데이터 전처리 함수\n",
    "def preprocess_sentence(sentence, remove_stopwords=True):\n",
    "    sentence = sentence.lower() # 텍스트 소문자화\n",
    "    sentence = BeautifulSoup(sentence, \"lxml\").text # <br />, <a href = ...> 등의 html 태그 제거\n",
    "    sentence = re.sub(r'\\([^)]*\\)', '', sentence) # 괄호로 닫힌 문자열 (...) 제거 Ex) my husband (and myself!) for => my husband for\n",
    "    sentence = re.sub('\"','', sentence) # 쌍따옴표 \" 제거\n",
    "    sentence = ' '.join([contractions[t] if t in contractions else t for t in sentence.split(\" \")]) # 약어 정규화\n",
    "    sentence = re.sub(r\"'s\\b\",\"\", sentence) # 소유격 제거. Ex) roland's -> roland\n",
    "    sentence = re.sub(\"[^a-zA-Z]\", \" \", sentence) # 영어 외 문자(숫자, 특수문자 등) 공백으로 변환\n",
    "    sentence = re.sub('[m]{2,}', 'mm', sentence) # m이 3개 이상이면 2개로 변경. Ex) ummmmmmm yeah -> umm yeah\n",
    "    \n",
    "    # 불용어 제거 (Text)\n",
    "    if remove_stopwords:\n",
    "        tokens = ' '.join(word for word in sentence.split() if not word in stopwords.words('english') if len(word) > 1)\n",
    "    # 불용어 미제거 (Summary)\n",
    "    else:\n",
    "        tokens = ' '.join(word for word in sentence.split() if len(word) > 1)\n",
    "    return tokens"
   ]
  },
  {
   "cell_type": "code",
   "execution_count": 10,
   "id": "anonymous-knock",
   "metadata": {},
   "outputs": [
    {
     "name": "stdout",
     "output_type": "stream",
     "text": [
      "['saurav kant alumnus upgrad iiit pg program machine learning artificial intelligence sr systems engineer infosys almost years work experience program upgrad degree career support helped transition data scientist tech mahindra salary hike upgrad online power learning powered lakh careers', 'kunal shah credit card bill payment platform cred gave users chance win free food swiggy one year pranav kaushik delhi techie bagged reward spending cred coins users get one cred coin per rupee bill paid used avail rewards brands like ixigo bookmyshow ubereats cult fit', 'new zealand defeated india wickets fourth odi hamilton thursday win first match five match odi series india lost international match rohit sharma captaincy consecutive victories dating back march match witnessed india getting seventh lowest total odi cricket history', 'aegon life iterm insurance plan customers enjoy tax benefits premiums paid save taxes plan provides life cover age years also customers options insure critical illnesses disability accidental death benefit rider life cover age years', 'speaking sexual harassment allegations rajkumar hirani sonam kapoor said known hirani many years true metoo movement get derailed metoo movement always believe woman case need reserve judgment added hirani accused assistant worked sanju']\n"
     ]
    }
   ],
   "source": [
    "clean_text = []\n",
    "# 전체 Text 데이터에 대한 전처리 : 10분 이상 시간이 걸릴 수 있습니다. \n",
    "for s in data['text']:\n",
    "    clean_text.append(preprocess_sentence(s))\n",
    "\n",
    "# 전처리 후 출력\n",
    "print(clean_text[:5])\n"
   ]
  },
  {
   "cell_type": "code",
   "execution_count": 11,
   "id": "musical-eugene",
   "metadata": {},
   "outputs": [
    {
     "name": "stdout",
     "output_type": "stream",
     "text": [
      "['upgrad learner switches to career in ml al with salary hike', 'delhi techie wins free food from swiggy for one year on cred', 'new zealand end rohit sharma led india match winning streak', 'aegon life iterm insurance plan helps customers save tax', 'have known hirani for yrs what if metoo claims are not true sonam']\n"
     ]
    }
   ],
   "source": [
    "clean_headlines = []\n",
    "# 전체 headline 데이터에 대한 전처리 : 5분 이상 시간이 걸릴 수 있습니다. \n",
    "for s in data['headlines']:\n",
    "    clean_headlines.append(preprocess_sentence(s, False))\n",
    "\n",
    "print(clean_headlines[:5])"
   ]
  },
  {
   "cell_type": "code",
   "execution_count": 12,
   "id": "productive-fundamentals",
   "metadata": {},
   "outputs": [],
   "source": [
    "data['text'] = clean_text\n",
    "data['headlines'] = clean_headlines\n",
    "\n",
    "# 빈 값을 Null 값으로 변환\n",
    "data.replace('', np.nan, inplace=True)"
   ]
  },
  {
   "cell_type": "code",
   "execution_count": 13,
   "id": "descending-commitment",
   "metadata": {},
   "outputs": [
    {
     "data": {
      "text/plain": [
       "headlines    0\n",
       "text         0\n",
       "dtype: int64"
      ]
     },
     "execution_count": 13,
     "metadata": {},
     "output_type": "execute_result"
    }
   ],
   "source": [
    "data.isnull().sum()"
   ]
  },
  {
   "cell_type": "markdown",
   "id": "respected-lounge",
   "metadata": {},
   "source": [
    "### 2-3.샘플의 최대 길이 정하기"
   ]
  },
  {
   "cell_type": "code",
   "execution_count": 14,
   "id": "attached-electronics",
   "metadata": {},
   "outputs": [
    {
     "name": "stdout",
     "output_type": "stream",
     "text": [
      "텍스트의 최소 길이 : 1\n",
      "텍스트의 최대 길이 : 60\n",
      "텍스트의 평균 길이 : 35.09968483123221\n",
      "요약의 최소 길이 : 1\n",
      "요약의 최대 길이 : 16\n",
      "요약의 평균 길이 : 9.299532330215534\n"
     ]
    },
    {
     "data": {
      "image/png": "[encoded data removed]",
      "text/plain": [
       "<Figure size 432x288 with 2 Axes>"
      ]
     },
     "metadata": {
      "needs_background": "light"
     },
     "output_type": "display_data"
    },
    {
     "data": {
      "image/png": "[encoded data removed]",
      "text/plain": [
       "<Figure size 432x288 with 1 Axes>"
      ]
     },
     "metadata": {
      "needs_background": "light"
     },
     "output_type": "display_data"
    },
    {
     "data": {
      "image/png": "[encoded data removed]",
      "text/plain": [
       "<Figure size 432x288 with 1 Axes>"
      ]
     },
     "metadata": {
      "needs_background": "light"
     },
     "output_type": "display_data"
    }
   ],
   "source": [
    "# 길이 분포 출력\n",
    "import matplotlib.pyplot as plt\n",
    "\n",
    "text_len = [len(s.split()) for s in data['text']]\n",
    "summary_len = [len(s.split()) for s in data['headlines']]\n",
    "\n",
    "print('텍스트의 최소 길이 : {}'.format(np.min(text_len)))\n",
    "print('텍스트의 최대 길이 : {}'.format(np.max(text_len)))\n",
    "print('텍스트의 평균 길이 : {}'.format(np.mean(text_len)))\n",
    "print('요약의 최소 길이 : {}'.format(np.min(summary_len)))\n",
    "print('요약의 최대 길이 : {}'.format(np.max(summary_len)))\n",
    "print('요약의 평균 길이 : {}'.format(np.mean(summary_len)))\n",
    "\n",
    "plt.subplot(1,2,1)\n",
    "plt.boxplot(summary_len)\n",
    "plt.title('headlines')\n",
    "plt.subplot(1,2,2)\n",
    "plt.boxplot(text_len)\n",
    "plt.title('text')\n",
    "plt.tight_layout()\n",
    "plt.show()\n",
    "\n",
    "plt.title('headlines')\n",
    "plt.hist(summary_len, bins = 40)\n",
    "plt.xlabel('length of samples')\n",
    "plt.ylabel('number of samples')\n",
    "plt.show()\n",
    "\n",
    "plt.title('text')\n",
    "plt.hist(text_len, bins = 40)\n",
    "plt.xlabel('length of samples')\n",
    "plt.ylabel('number of samples')\n",
    "plt.show()"
   ]
  },
  {
   "cell_type": "code",
   "execution_count": 15,
   "id": "expired-constant",
   "metadata": {},
   "outputs": [],
   "source": [
    "text_max_len = 45\n",
    "summary_max_len = 13"
   ]
  },
  {
   "cell_type": "code",
   "execution_count": 16,
   "id": "compact-garbage",
   "metadata": {},
   "outputs": [],
   "source": [
    "def below_threshold_len(max_len, nested_list):\n",
    "  cnt = 0\n",
    "  for s in nested_list:\n",
    "    if(len(s.split()) <= max_len):\n",
    "        cnt = cnt + 1\n",
    "  print('전체 샘플 중 길이가 %s 이하인 샘플의 비율: %s'%(max_len, (cnt / len(nested_list))))"
   ]
  },
  {
   "cell_type": "code",
   "execution_count": 17,
   "id": "opening-camcorder",
   "metadata": {},
   "outputs": [
    {
     "name": "stdout",
     "output_type": "stream",
     "text": [
      "전체 샘플 중 길이가 45 이하인 샘플의 비율: 0.9967771451809678\n",
      "전체 샘플 중 길이가 13 이하인 샘플의 비율: 0.9981699877999186\n"
     ]
    }
   ],
   "source": [
    "below_threshold_len(text_max_len, data['text'])\n",
    "below_threshold_len(summary_max_len,  data['headlines'])"
   ]
  },
  {
   "cell_type": "code",
   "execution_count": 18,
   "id": "moderate-empty",
   "metadata": {},
   "outputs": [
    {
     "name": "stdout",
     "output_type": "stream",
     "text": [
      "전체 샘플수 : 97863\n"
     ]
    }
   ],
   "source": [
    "data = data[data['text'].apply(lambda x: len(x.split()) <= text_max_len)]\n",
    "data = data[data['headlines'].apply(lambda x: len(x.split()) <= summary_max_len)]\n",
    "print('전체 샘플수 :', (len(data)))"
   ]
  },
  {
   "cell_type": "markdown",
   "id": "theoretical-maximum",
   "metadata": {},
   "source": [
    "### 2-4. 시작 토큰과 종료 토큰 추가하기"
   ]
  },
  {
   "cell_type": "code",
   "execution_count": 19,
   "id": "swedish-bench",
   "metadata": {},
   "outputs": [
    {
     "data": {
      "text/html": [
       "<div>\n",
       "<style scoped>\n",
       "    .dataframe tbody tr th:only-of-type {\n",
       "        vertical-align: middle;\n",
       "    }\n",
       "\n",
       "    .dataframe tbody tr th {\n",
       "        vertical-align: top;\n",
       "    }\n",
       "\n",
       "    .dataframe thead th {\n",
       "        text-align: right;\n",
       "    }\n",
       "</style>\n",
       "<table border=\"1\" class=\"dataframe\">\n",
       "  <thead>\n",
       "    <tr style=\"text-align: right;\">\n",
       "      <th></th>\n",
       "      <th>headlines</th>\n",
       "      <th>text</th>\n",
       "      <th>decoder_input</th>\n",
       "      <th>decoder_target</th>\n",
       "    </tr>\n",
       "  </thead>\n",
       "  <tbody>\n",
       "    <tr>\n",
       "      <th>0</th>\n",
       "      <td>upgrad learner switches to career in ml al wit...</td>\n",
       "      <td>saurav kant alumnus upgrad iiit pg program mac...</td>\n",
       "      <td>sostoken upgrad learner switches to career in ...</td>\n",
       "      <td>upgrad learner switches to career in ml al wit...</td>\n",
       "    </tr>\n",
       "    <tr>\n",
       "      <th>1</th>\n",
       "      <td>delhi techie wins free food from swiggy for on...</td>\n",
       "      <td>kunal shah credit card bill payment platform c...</td>\n",
       "      <td>sostoken delhi techie wins free food from swig...</td>\n",
       "      <td>delhi techie wins free food from swiggy for on...</td>\n",
       "    </tr>\n",
       "    <tr>\n",
       "      <th>2</th>\n",
       "      <td>new zealand end rohit sharma led india match w...</td>\n",
       "      <td>new zealand defeated india wickets fourth odi ...</td>\n",
       "      <td>sostoken new zealand end rohit sharma led indi...</td>\n",
       "      <td>new zealand end rohit sharma led india match w...</td>\n",
       "    </tr>\n",
       "    <tr>\n",
       "      <th>3</th>\n",
       "      <td>aegon life iterm insurance plan helps customer...</td>\n",
       "      <td>aegon life iterm insurance plan customers enjo...</td>\n",
       "      <td>sostoken aegon life iterm insurance plan helps...</td>\n",
       "      <td>aegon life iterm insurance plan helps customer...</td>\n",
       "    </tr>\n",
       "    <tr>\n",
       "      <th>4</th>\n",
       "      <td>have known hirani for yrs what if metoo claims...</td>\n",
       "      <td>speaking sexual harassment allegations rajkuma...</td>\n",
       "      <td>sostoken have known hirani for yrs what if met...</td>\n",
       "      <td>have known hirani for yrs what if metoo claims...</td>\n",
       "    </tr>\n",
       "  </tbody>\n",
       "</table>\n",
       "</div>"
      ],
      "text/plain": [
       "                                           headlines  \\\n",
       "0  upgrad learner switches to career in ml al wit...   \n",
       "1  delhi techie wins free food from swiggy for on...   \n",
       "2  new zealand end rohit sharma led india match w...   \n",
       "3  aegon life iterm insurance plan helps customer...   \n",
       "4  have known hirani for yrs what if metoo claims...   \n",
       "\n",
       "                                                text  \\\n",
       "0  saurav kant alumnus upgrad iiit pg program mac...   \n",
       "1  kunal shah credit card bill payment platform c...   \n",
       "2  new zealand defeated india wickets fourth odi ...   \n",
       "3  aegon life iterm insurance plan customers enjo...   \n",
       "4  speaking sexual harassment allegations rajkuma...   \n",
       "\n",
       "                                       decoder_input  \\\n",
       "0  sostoken upgrad learner switches to career in ...   \n",
       "1  sostoken delhi techie wins free food from swig...   \n",
       "2  sostoken new zealand end rohit sharma led indi...   \n",
       "3  sostoken aegon life iterm insurance plan helps...   \n",
       "4  sostoken have known hirani for yrs what if met...   \n",
       "\n",
       "                                      decoder_target  \n",
       "0  upgrad learner switches to career in ml al wit...  \n",
       "1  delhi techie wins free food from swiggy for on...  \n",
       "2  new zealand end rohit sharma led india match w...  \n",
       "3  aegon life iterm insurance plan helps customer...  \n",
       "4  have known hirani for yrs what if metoo claims...  "
      ]
     },
     "execution_count": 19,
     "metadata": {},
     "output_type": "execute_result"
    }
   ],
   "source": [
    "# 요약 데이터에는 시작 토큰과 종료 토큰을 추가한다.\n",
    "data['decoder_input'] = data['headlines'].apply(lambda x : 'sostoken '+ x)\n",
    "data['decoder_target'] = data['headlines'].apply(lambda x : x + ' eostoken')\n",
    "data.head()"
   ]
  },
  {
   "cell_type": "code",
   "execution_count": 20,
   "id": "juvenile-keyboard",
   "metadata": {},
   "outputs": [],
   "source": [
    "encoder_input = np.array(data['text']) # 인코더의 입력\n",
    "decoder_input = np.array(data['decoder_input']) # 디코더의 입력\n",
    "decoder_target = np.array(data['decoder_target']) # 디코더의 레이블"
   ]
  },
  {
   "cell_type": "code",
   "execution_count": 21,
   "id": "injured-respect",
   "metadata": {},
   "outputs": [
    {
     "name": "stdout",
     "output_type": "stream",
     "text": [
      "[51370 34681 55028 ...  4374 38013 14369]\n"
     ]
    }
   ],
   "source": [
    "indices = np.arange(encoder_input.shape[0])\n",
    "np.random.shuffle(indices)\n",
    "print(indices)"
   ]
  },
  {
   "cell_type": "code",
   "execution_count": 22,
   "id": "suspected-light",
   "metadata": {},
   "outputs": [],
   "source": [
    "encoder_input = encoder_input[indices]\n",
    "decoder_input = decoder_input[indices]\n",
    "decoder_target = decoder_target[indices]"
   ]
  },
  {
   "cell_type": "code",
   "execution_count": 23,
   "id": "directed-success",
   "metadata": {},
   "outputs": [
    {
     "name": "stdout",
     "output_type": "stream",
     "text": [
      "테스트 데이터의 수 : 19572\n"
     ]
    }
   ],
   "source": [
    "n_of_val = int(len(encoder_input)*0.2)\n",
    "print('테스트 데이터의 수 :', n_of_val)"
   ]
  },
  {
   "cell_type": "code",
   "execution_count": 24,
   "id": "dominant-possibility",
   "metadata": {},
   "outputs": [
    {
     "name": "stdout",
     "output_type": "stream",
     "text": [
      "훈련 데이터의 개수 : 78291\n",
      "훈련 레이블의 개수 : 78291\n",
      "테스트 데이터의 개수 : 19572\n",
      "테스트 레이블의 개수 : 19572\n"
     ]
    }
   ],
   "source": [
    "encoder_input_train = encoder_input[:-n_of_val]\n",
    "decoder_input_train = decoder_input[:-n_of_val]\n",
    "decoder_target_train = decoder_target[:-n_of_val]\n",
    "\n",
    "encoder_input_test = encoder_input[-n_of_val:]\n",
    "decoder_input_test = decoder_input[-n_of_val:]\n",
    "decoder_target_test = decoder_target[-n_of_val:]\n",
    "\n",
    "print('훈련 데이터의 개수 :', len(encoder_input_train))\n",
    "print('훈련 레이블의 개수 :', len(decoder_input_train))\n",
    "print('테스트 데이터의 개수 :', len(encoder_input_test))\n",
    "print('테스트 레이블의 개수 :', len(decoder_input_test))"
   ]
  },
  {
   "cell_type": "markdown",
   "id": "seven-skating",
   "metadata": {},
   "source": [
    "### 2-5. 단어 집합(vocabulary) 만들기 및 정수 인코딩"
   ]
  },
  {
   "cell_type": "code",
   "execution_count": 25,
   "id": "restricted-payment",
   "metadata": {},
   "outputs": [],
   "source": [
    "src_tokenizer = Tokenizer() # 토크나이저 정의\n",
    "src_tokenizer.fit_on_texts(encoder_input_train) # 입력된 데이터로부터 단어 집합 생성"
   ]
  },
  {
   "cell_type": "code",
   "execution_count": 26,
   "id": "outside-municipality",
   "metadata": {},
   "outputs": [
    {
     "name": "stdout",
     "output_type": "stream",
     "text": [
      "단어 집합(vocabulary)의 크기 : 69261\n",
      "등장 빈도가 6번 이하인 희귀 단어의 수: 47223\n",
      "단어 집합에서 희귀 단어를 제외시킬 경우의 단어 집합의 크기 22038\n",
      "단어 집합에서 희귀 단어의 비율: 68.18122753064495\n",
      "전체 등장 빈도에서 희귀 단어 등장 빈도 비율: 3.5049102114035815\n"
     ]
    }
   ],
   "source": [
    "threshold = 7\n",
    "total_cnt = len(src_tokenizer.word_index) # 단어의 수\n",
    "rare_cnt = 0 # 등장 빈도수가 threshold보다 작은 단어의 개수를 카운트\n",
    "total_freq = 0 # 훈련 데이터의 전체 단어 빈도수 총 합\n",
    "rare_freq = 0 # 등장 빈도수가 threshold보다 작은 단어의 등장 빈도수의 총 합\n",
    "\n",
    "# 단어와 빈도수의 쌍(pair)을 key와 value로 받는다.\n",
    "for key, value in src_tokenizer.word_counts.items():\n",
    "    total_freq = total_freq + value\n",
    "\n",
    "    # 단어의 등장 빈도수가 threshold보다 작으면\n",
    "    if(value < threshold):\n",
    "        rare_cnt = rare_cnt + 1\n",
    "        rare_freq = rare_freq + value\n",
    "\n",
    "print('단어 집합(vocabulary)의 크기 :', total_cnt)\n",
    "print('등장 빈도가 %s번 이하인 희귀 단어의 수: %s'%(threshold - 1, rare_cnt))\n",
    "print('단어 집합에서 희귀 단어를 제외시킬 경우의 단어 집합의 크기 %s'%(total_cnt - rare_cnt))\n",
    "print(\"단어 집합에서 희귀 단어의 비율:\", (rare_cnt / total_cnt)*100)\n",
    "print(\"전체 등장 빈도에서 희귀 단어 등장 빈도 비율:\", (rare_freq / total_freq)*100)"
   ]
  },
  {
   "cell_type": "code",
   "execution_count": 27,
   "id": "embedded-vacation",
   "metadata": {},
   "outputs": [],
   "source": [
    "src_vocab = 20000\n",
    "src_tokenizer = Tokenizer(num_words=src_vocab) # 단어 집합의 크기를 8,000으로 제한\n",
    "src_tokenizer.fit_on_texts(encoder_input_train) # 단어 집합 재생성."
   ]
  },
  {
   "cell_type": "code",
   "execution_count": 28,
   "id": "mighty-things",
   "metadata": {},
   "outputs": [
    {
     "name": "stdout",
     "output_type": "stream",
     "text": [
      "[[2577, 1613, 2294, 1399, 1318, 93, 2567, 214, 825, 627, 17408, 15947, 7434, 14753, 569, 237, 7, 1692, 58, 1613, 766, 3246, 2672, 408, 425, 1414, 432, 6465, 16607, 2517, 1064, 2841, 397, 116, 1064, 1516, 1318, 29, 264, 489, 430, 29, 3], [119, 3965, 637, 61, 930, 2, 3818, 2937, 651, 291, 18316, 798, 1360, 10954, 13329, 2388, 8236, 1160, 2808, 897, 7671, 2, 8775, 1, 2, 1458, 2609, 381, 685, 916], [5, 16, 124, 43, 464, 42, 827, 1566, 1570, 1067, 2630, 3691, 5, 567, 16, 2673, 6088, 1, 15336, 400, 691, 16, 1, 42, 411, 2971, 14253, 5, 42, 411, 1951, 5214, 10190, 1020, 6088, 4, 1193]]\n"
     ]
    }
   ],
   "source": [
    "# 텍스트 시퀀스를 정수 시퀀스로 변환\n",
    "encoder_input_train = src_tokenizer.texts_to_sequences(encoder_input_train) \n",
    "encoder_input_test = src_tokenizer.texts_to_sequences(encoder_input_test)\n",
    "\n",
    "# 잘 진행되었는지 샘플 출력\n",
    "print(encoder_input_train[:3])"
   ]
  },
  {
   "cell_type": "code",
   "execution_count": 29,
   "id": "varied-costs",
   "metadata": {},
   "outputs": [],
   "source": [
    "tar_tokenizer = Tokenizer()\n",
    "tar_tokenizer.fit_on_texts(decoder_input_train)"
   ]
  },
  {
   "cell_type": "code",
   "execution_count": 30,
   "id": "hired-sense",
   "metadata": {},
   "outputs": [
    {
     "name": "stdout",
     "output_type": "stream",
     "text": [
      "단어 집합(vocabulary)의 크기 : 30012\n",
      "등장 빈도가 5번 이하인 희귀 단어의 수: 19606\n",
      "단어 집합에서 희귀 단어를 제외시킬 경우의 단어 집합의 크기 10406\n",
      "단어 집합에서 희귀 단어의 비율: 65.3272024523524\n",
      "전체 등장 빈도에서 희귀 단어 등장 빈도 비율: 4.645059410230403\n"
     ]
    }
   ],
   "source": [
    "threshold = 6\n",
    "total_cnt = len(tar_tokenizer.word_index) # 단어의 수\n",
    "rare_cnt = 0 # 등장 빈도수가 threshold보다 작은 단어의 개수를 카운트\n",
    "total_freq = 0 # 훈련 데이터의 전체 단어 빈도수 총 합\n",
    "rare_freq = 0 # 등장 빈도수가 threshold보다 작은 단어의 등장 빈도수의 총 합\n",
    "\n",
    "# 단어와 빈도수의 쌍(pair)을 key와 value로 받는다.\n",
    "for key, value in tar_tokenizer.word_counts.items():\n",
    "    total_freq = total_freq + value\n",
    "\n",
    "    # 단어의 등장 빈도수가 threshold보다 작으면\n",
    "    if(value < threshold):\n",
    "        rare_cnt = rare_cnt + 1\n",
    "        rare_freq = rare_freq + value\n",
    "\n",
    "print('단어 집합(vocabulary)의 크기 :', total_cnt)\n",
    "print('등장 빈도가 %s번 이하인 희귀 단어의 수: %s'%(threshold - 1, rare_cnt))\n",
    "print('단어 집합에서 희귀 단어를 제외시킬 경우의 단어 집합의 크기 %s'%(total_cnt - rare_cnt))\n",
    "print(\"단어 집합에서 희귀 단어의 비율:\", (rare_cnt / total_cnt)*100)\n",
    "print(\"전체 등장 빈도에서 희귀 단어 등장 빈도 비율:\", (rare_freq / total_freq)*100)"
   ]
  },
  {
   "cell_type": "code",
   "execution_count": 31,
   "id": "opened-psychology",
   "metadata": {},
   "outputs": [
    {
     "name": "stdout",
     "output_type": "stream",
     "text": [
      "input\n",
      "input  [[1, 762, 2273, 1101, 4, 947, 43, 890, 4, 1557], [1, 8, 423, 2559, 550, 8753, 3, 270, 11, 2608], [1, 13, 1508, 101, 7, 464, 5, 1060, 1836, 9496, 3, 775], [1, 95, 646, 7215, 106, 80, 4, 578, 6172, 247], [1, 20, 41, 948, 15, 806, 1919, 31, 1242, 17, 319, 535, 32, 281]]\n",
      "target\n",
      "decoder  [[762, 2273, 1101, 4, 947, 43, 890, 4, 1557, 2], [8, 423, 2559, 550, 8753, 3, 270, 11, 2608, 2], [13, 1508, 101, 7, 464, 5, 1060, 1836, 9496, 3, 775, 2], [95, 646, 7215, 106, 80, 4, 578, 6172, 247, 2], [20, 41, 948, 15, 806, 1919, 31, 1242, 17, 319, 535, 32, 281, 2]]\n"
     ]
    }
   ],
   "source": [
    "tar_vocab =10000\n",
    "tar_tokenizer = Tokenizer(num_words=tar_vocab) \n",
    "tar_tokenizer.fit_on_texts(decoder_input_train)\n",
    "tar_tokenizer.fit_on_texts(decoder_target_train)\n",
    "\n",
    "# 텍스트 시퀀스를 정수 시퀀스로 변환\n",
    "decoder_input_train = tar_tokenizer.texts_to_sequences(decoder_input_train) \n",
    "decoder_target_train = tar_tokenizer.texts_to_sequences(decoder_target_train)\n",
    "decoder_input_test = tar_tokenizer.texts_to_sequences(decoder_input_test)\n",
    "decoder_target_test = tar_tokenizer.texts_to_sequences(decoder_target_test)\n",
    "\n",
    "# 잘 변환되었는지 확인\n",
    "print('input')\n",
    "print('input ',decoder_input_train[:5])\n",
    "print('target')\n",
    "print('decoder ',decoder_target_train[:5])"
   ]
  },
  {
   "cell_type": "code",
   "execution_count": 32,
   "id": "electronic-complex",
   "metadata": {
    "scrolled": true
   },
   "outputs": [
    {
     "name": "stdout",
     "output_type": "stream",
     "text": [
      "삭제할 훈련 데이터의 개수 : 0\n",
      "삭제할 테스트 데이터의 개수 : 0\n"
     ]
    },
    {
     "name": "stderr",
     "output_type": "stream",
     "text": [
      "/opt/conda/lib/python3.7/site-packages/numpy/core/_asarray.py:83: VisibleDeprecationWarning: Creating an ndarray from ragged nested sequences (which is a list-or-tuple of lists-or-tuples-or ndarrays with different lengths or shapes) is deprecated. If you meant to do this, you must specify 'dtype=object' when creating the ndarray\n",
      "  return array(a, dtype, copy=False, order=order)\n"
     ]
    },
    {
     "name": "stdout",
     "output_type": "stream",
     "text": [
      "훈련 데이터의 개수 : 78291\n",
      "훈련 레이블의 개수 : 78291\n",
      "테스트 데이터의 개수 : 19572\n",
      "테스트 레이블의 개수 : 19572\n"
     ]
    }
   ],
   "source": [
    "drop_train = [index for index, sentence in enumerate(decoder_input_train) if len(sentence) == 1]\n",
    "drop_test = [index for index, sentence in enumerate(decoder_input_test) if len(sentence) == 1]\n",
    "\n",
    "print('삭제할 훈련 데이터의 개수 :', len(drop_train))\n",
    "print('삭제할 테스트 데이터의 개수 :', len(drop_test))\n",
    "\n",
    "encoder_input_train = np.delete(encoder_input_train, drop_train, axis=0)\n",
    "decoder_input_train = np.delete(decoder_input_train, drop_train, axis=0)\n",
    "decoder_target_train = np.delete(decoder_target_train, drop_train, axis=0)\n",
    "\n",
    "encoder_input_test = np.delete(encoder_input_test, drop_test, axis=0)\n",
    "decoder_input_test = np.delete(decoder_input_test, drop_test, axis=0)\n",
    "decoder_target_test = np.delete(decoder_target_test, drop_test, axis=0)\n",
    "\n",
    "print('훈련 데이터의 개수 :', len(encoder_input_train))\n",
    "print('훈련 레이블의 개수 :', len(decoder_input_train))\n",
    "print('테스트 데이터의 개수 :', len(encoder_input_test))\n",
    "print('테스트 레이블의 개수 :', len(decoder_input_test))"
   ]
  },
  {
   "cell_type": "markdown",
   "id": "consistent-situation",
   "metadata": {},
   "source": [
    "### 2-6. 패딩하기"
   ]
  },
  {
   "cell_type": "code",
   "execution_count": 33,
   "id": "seeing-meeting",
   "metadata": {},
   "outputs": [],
   "source": [
    "encoder_input_train = pad_sequences(encoder_input_train, maxlen=text_max_len, padding='post')\n",
    "encoder_input_test = pad_sequences(encoder_input_test, maxlen=text_max_len, padding='post')\n",
    "decoder_input_train = pad_sequences(decoder_input_train, maxlen=summary_max_len, padding='post')\n",
    "decoder_target_train = pad_sequences(decoder_target_train, maxlen=summary_max_len, padding='post')\n",
    "decoder_input_test = pad_sequences(decoder_input_test, maxlen=summary_max_len, padding='post')\n",
    "decoder_target_test = pad_sequences(decoder_target_test, maxlen=summary_max_len, padding='post')"
   ]
  },
  {
   "cell_type": "markdown",
   "id": "filled-hypothetical",
   "metadata": {},
   "source": [
    "## 3. 모델 설계하기"
   ]
  },
  {
   "cell_type": "markdown",
   "id": "preliminary-purse",
   "metadata": {},
   "source": [
    "### 3-1. seq2seq"
   ]
  },
  {
   "cell_type": "code",
   "execution_count": 34,
   "id": "stupid-scientist",
   "metadata": {},
   "outputs": [
    {
     "name": "stdout",
     "output_type": "stream",
     "text": [
      "WARNING:tensorflow:Layer lstm will not use cuDNN kernel since it doesn't meet the cuDNN kernel criteria. It will use generic GPU kernel as fallback when running on GPU\n",
      "WARNING:tensorflow:Layer lstm_1 will not use cuDNN kernel since it doesn't meet the cuDNN kernel criteria. It will use generic GPU kernel as fallback when running on GPU\n",
      "WARNING:tensorflow:Layer lstm_2 will not use cuDNN kernel since it doesn't meet the cuDNN kernel criteria. It will use generic GPU kernel as fallback when running on GPU\n"
     ]
    }
   ],
   "source": [
    "from tensorflow.keras.layers import Input, LSTM, Embedding, Dense, Concatenate\n",
    "from tensorflow.keras.models import Model\n",
    "from tensorflow.keras.callbacks import EarlyStopping, ModelCheckpoint\n",
    "\n",
    "\n",
    "# 인코더 설계 시작\n",
    "embedding_dim = 128\n",
    "hidden_size = 256\n",
    "\n",
    "# 인코더\n",
    "encoder_inputs = Input(shape=(text_max_len,))\n",
    "\n",
    "# 인코더의 임베딩 층\n",
    "enc_emb = Embedding(src_vocab, embedding_dim)(encoder_inputs)\n",
    "\n",
    "# 인코더의 LSTM 1\n",
    "encoder_lstm1 = LSTM(hidden_size, return_sequences=True, return_state=True ,dropout = 0.4, recurrent_dropout = 0.4)\n",
    "encoder_output1, state_h1, state_c1 = encoder_lstm1(enc_emb)\n",
    "\n",
    "# 인코더의 LSTM 2\n",
    "encoder_lstm2 = LSTM(hidden_size, return_sequences=True, return_state=True, dropout=0.4, recurrent_dropout=0.4)\n",
    "encoder_output2, state_h2, state_c2 = encoder_lstm2(encoder_output1)\n",
    "\n",
    "# 인코더의 LSTM 3\n",
    "encoder_lstm3 = LSTM(hidden_size, return_state=True, return_sequences=True, dropout=0.4, recurrent_dropout=0.4)\n",
    "encoder_outputs, state_h, state_c= encoder_lstm3(encoder_output2)"
   ]
  },
  {
   "cell_type": "code",
   "execution_count": 35,
   "id": "other-partner",
   "metadata": {},
   "outputs": [
    {
     "name": "stdout",
     "output_type": "stream",
     "text": [
      "WARNING:tensorflow:Layer lstm_3 will not use cuDNN kernel since it doesn't meet the cuDNN kernel criteria. It will use generic GPU kernel as fallback when running on GPU\n"
     ]
    }
   ],
   "source": [
    "# 디코더 설계\n",
    "decoder_inputs = Input(shape=(None,))\n",
    "\n",
    "# 디코더의 임베딩 층\n",
    "dec_emb_layer = Embedding(tar_vocab, embedding_dim)\n",
    "dec_emb = dec_emb_layer(decoder_inputs)\n",
    "\n",
    "# 디코더의 LSTM\n",
    "decoder_lstm = LSTM(hidden_size, return_sequences=True, return_state=True, dropout=0.4, recurrent_dropout=0.2)\n",
    "decoder_outputs, _, _ = decoder_lstm(dec_emb, initial_state=[state_h, state_c])"
   ]
  },
  {
   "cell_type": "markdown",
   "id": "fluid-sympathy",
   "metadata": {},
   "source": [
    "### 3-2. 어텐션 매커니즘"
   ]
  },
  {
   "cell_type": "code",
   "execution_count": 36,
   "id": "jewish-today",
   "metadata": {},
   "outputs": [],
   "source": [
    "urllib.request.urlretrieve(\"https://raw.githubusercontent.com/thushv89/attention_keras/master/src/layers/attention.py\", filename=\"attention.py\")\n",
    "from attention import AttentionLayer"
   ]
  },
  {
   "cell_type": "code",
   "execution_count": 37,
   "id": "normal-orbit",
   "metadata": {},
   "outputs": [
    {
     "name": "stdout",
     "output_type": "stream",
     "text": [
      "Model: \"model\"\n",
      "__________________________________________________________________________________________________\n",
      "Layer (type)                    Output Shape         Param #     Connected to                     \n",
      "==================================================================================================\n",
      "input_1 (InputLayer)            [(None, 45)]         0                                            \n",
      "__________________________________________________________________________________________________\n",
      "embedding (Embedding)           (None, 45, 128)      2560000     input_1[0][0]                    \n",
      "__________________________________________________________________________________________________\n",
      "lstm (LSTM)                     [(None, 45, 256), (N 394240      embedding[0][0]                  \n",
      "__________________________________________________________________________________________________\n",
      "input_2 (InputLayer)            [(None, None)]       0                                            \n",
      "__________________________________________________________________________________________________\n",
      "lstm_1 (LSTM)                   [(None, 45, 256), (N 525312      lstm[0][0]                       \n",
      "__________________________________________________________________________________________________\n",
      "embedding_1 (Embedding)         (None, None, 128)    1280000     input_2[0][0]                    \n",
      "__________________________________________________________________________________________________\n",
      "lstm_2 (LSTM)                   [(None, 45, 256), (N 525312      lstm_1[0][0]                     \n",
      "__________________________________________________________________________________________________\n",
      "lstm_3 (LSTM)                   [(None, None, 256),  394240      embedding_1[0][0]                \n",
      "                                                                 lstm_2[0][1]                     \n",
      "                                                                 lstm_2[0][2]                     \n",
      "__________________________________________________________________________________________________\n",
      "attention_layer (AttentionLayer ((None, None, 256),  131328      lstm_2[0][0]                     \n",
      "                                                                 lstm_3[0][0]                     \n",
      "__________________________________________________________________________________________________\n",
      "concat_layer (Concatenate)      (None, None, 512)    0           lstm_3[0][0]                     \n",
      "                                                                 attention_layer[0][0]            \n",
      "__________________________________________________________________________________________________\n",
      "dense (Dense)                   (None, None, 10000)  5130000     concat_layer[0][0]               \n",
      "==================================================================================================\n",
      "Total params: 10,940,432\n",
      "Trainable params: 10,940,432\n",
      "Non-trainable params: 0\n",
      "__________________________________________________________________________________________________\n"
     ]
    }
   ],
   "source": [
    "# 어텐션 층(어텐션 함수)\n",
    "attn_layer = AttentionLayer(name='attention_layer')\n",
    "# 인코더와 디코더의 모든 time step의 hidden state를 어텐션 층에 전달하고 결과를 리턴\n",
    "attn_out, attn_states = attn_layer([encoder_outputs, decoder_outputs])\n",
    "\n",
    "# 어텐션의 결과와 디코더의 hidden state들을 연결\n",
    "decoder_concat_input = Concatenate(axis=-1, name='concat_layer')([decoder_outputs, attn_out])\n",
    "\n",
    "# 디코더의 출력층\n",
    "decoder_softmax_layer = Dense(tar_vocab, activation='softmax')\n",
    "decoder_softmax_outputs = decoder_softmax_layer(decoder_concat_input)\n",
    "\n",
    "# 모델 정의\n",
    "model = Model([encoder_inputs, decoder_inputs], decoder_softmax_outputs)\n",
    "model.summary()"
   ]
  },
  {
   "cell_type": "markdown",
   "id": "utility-redhead",
   "metadata": {},
   "source": [
    "### 3-3. 모델 훈련하기"
   ]
  },
  {
   "cell_type": "code",
   "execution_count": 38,
   "id": "serious-board",
   "metadata": {},
   "outputs": [
    {
     "name": "stdout",
     "output_type": "stream",
     "text": [
      "Epoch 1/50\n",
      "306/306 [==============================] - 260s 811ms/step - loss: 5.6229 - val_loss: 4.8070\n",
      "Epoch 2/50\n",
      "306/306 [==============================] - 247s 807ms/step - loss: 4.7494 - val_loss: 4.4612\n",
      "Epoch 3/50\n",
      "306/306 [==============================] - 246s 803ms/step - loss: 4.3890 - val_loss: 4.1846\n",
      "Epoch 4/50\n",
      "306/306 [==============================] - 247s 807ms/step - loss: 4.1129 - val_loss: 4.0140\n",
      "Epoch 5/50\n",
      "306/306 [==============================] - 253s 828ms/step - loss: 3.9096 - val_loss: 3.8907\n",
      "Epoch 6/50\n",
      "306/306 [==============================] - 245s 801ms/step - loss: 3.7489 - val_loss: 3.7865\n",
      "Epoch 7/50\n",
      "306/306 [==============================] - 246s 803ms/step - loss: 3.6065 - val_loss: 3.7083\n",
      "Epoch 8/50\n",
      "306/306 [==============================] - 247s 808ms/step - loss: 3.4901 - val_loss: 3.6387\n",
      "Epoch 9/50\n",
      "306/306 [==============================] - 246s 806ms/step - loss: 3.3810 - val_loss: 3.5776\n",
      "Epoch 10/50\n",
      "306/306 [==============================] - 250s 819ms/step - loss: 3.2866 - val_loss: 3.5272\n",
      "Epoch 11/50\n",
      "306/306 [==============================] - 245s 800ms/step - loss: 3.1945 - val_loss: 3.4827\n",
      "Epoch 12/50\n",
      "306/306 [==============================] - 247s 808ms/step - loss: 3.1194 - val_loss: 3.4489\n",
      "Epoch 13/50\n",
      "306/306 [==============================] - 253s 828ms/step - loss: 3.0523 - val_loss: 3.4192\n",
      "Epoch 14/50\n",
      "306/306 [==============================] - 247s 808ms/step - loss: 2.9898 - val_loss: 3.3979\n",
      "Epoch 15/50\n",
      "306/306 [==============================] - 245s 802ms/step - loss: 2.9294 - val_loss: 3.3653\n",
      "Epoch 16/50\n",
      "306/306 [==============================] - 245s 802ms/step - loss: 2.8750 - val_loss: 3.3469\n",
      "Epoch 17/50\n",
      "306/306 [==============================] - 245s 800ms/step - loss: 2.8183 - val_loss: 3.3326\n",
      "Epoch 18/50\n",
      "306/306 [==============================] - 245s 800ms/step - loss: 2.7675 - val_loss: 3.3198\n",
      "Epoch 19/50\n",
      "306/306 [==============================] - 245s 801ms/step - loss: 2.7360 - val_loss: 3.3105\n",
      "Epoch 20/50\n",
      "306/306 [==============================] - 245s 800ms/step - loss: 2.6938 - val_loss: 3.3035\n",
      "Epoch 21/50\n",
      "306/306 [==============================] - 246s 805ms/step - loss: 2.6492 - val_loss: 3.2981\n",
      "Epoch 22/50\n",
      "306/306 [==============================] - 248s 810ms/step - loss: 2.6197 - val_loss: 3.2835\n",
      "Epoch 23/50\n",
      "306/306 [==============================] - 246s 805ms/step - loss: 2.5818 - val_loss: 3.2820\n",
      "Epoch 24/50\n",
      "306/306 [==============================] - 248s 812ms/step - loss: 2.5471 - val_loss: 3.2757\n",
      "Epoch 25/50\n",
      "306/306 [==============================] - 248s 809ms/step - loss: 2.5112 - val_loss: 3.2700\n",
      "Epoch 26/50\n",
      "306/306 [==============================] - 247s 808ms/step - loss: 2.4842 - val_loss: 3.2655\n",
      "Epoch 27/50\n",
      "306/306 [==============================] - 247s 809ms/step - loss: 2.4599 - val_loss: 3.2600\n",
      "Epoch 28/50\n",
      "306/306 [==============================] - 247s 807ms/step - loss: 2.4335 - val_loss: 3.2625\n",
      "Epoch 29/50\n",
      "306/306 [==============================] - 254s 830ms/step - loss: 2.4080 - val_loss: 3.2594\n",
      "Epoch 30/50\n",
      "306/306 [==============================] - 247s 808ms/step - loss: 2.3878 - val_loss: 3.2579\n",
      "Epoch 31/50\n",
      "306/306 [==============================] - 249s 814ms/step - loss: 2.3637 - val_loss: 3.2602\n",
      "Epoch 32/50\n",
      "306/306 [==============================] - 250s 816ms/step - loss: 2.3400 - val_loss: 3.2547\n",
      "Epoch 33/50\n",
      "306/306 [==============================] - 247s 807ms/step - loss: 2.3208 - val_loss: 3.2506\n",
      "Epoch 34/50\n",
      "306/306 [==============================] - 247s 809ms/step - loss: 2.2955 - val_loss: 3.2550\n",
      "Epoch 35/50\n",
      "306/306 [==============================] - 246s 804ms/step - loss: 2.2810 - val_loss: 3.2551\n",
      "Epoch 00035: early stopping\n"
     ]
    }
   ],
   "source": [
    "model.compile(optimizer='rmsprop', loss='sparse_categorical_crossentropy')\n",
    "es = EarlyStopping(monitor='val_loss', patience=2, verbose=1)\n",
    "history = model.fit(x=[encoder_input_train, decoder_input_train], y=decoder_target_train, \\\n",
    "          validation_data=([encoder_input_test, decoder_input_test], decoder_target_test), \\\n",
    "          batch_size=256, callbacks=[es], epochs=50)"
   ]
  },
  {
   "cell_type": "code",
   "execution_count": 39,
   "id": "promotional-germany",
   "metadata": {},
   "outputs": [
    {
     "data": {
      "image/png": "[encoded data removed]",
      "text/plain": [
       "<Figure size 432x288 with 1 Axes>"
      ]
     },
     "metadata": {
      "needs_background": "light"
     },
     "output_type": "display_data"
    }
   ],
   "source": [
    "plt.plot(history.history['loss'], label='train')\n",
    "plt.plot(history.history['val_loss'], label='test')\n",
    "plt.legend()\n",
    "plt.show()"
   ]
  },
  {
   "cell_type": "markdown",
   "id": "disturbed-cemetery",
   "metadata": {},
   "source": [
    "## 4. 실제 결과와 요약문 비교하기"
   ]
  },
  {
   "cell_type": "markdown",
   "id": "sudden-truck",
   "metadata": {},
   "source": [
    "### 4-1. 인퍼런스 모델 구현하기"
   ]
  },
  {
   "cell_type": "code",
   "execution_count": 40,
   "id": "occupied-exhibition",
   "metadata": {},
   "outputs": [],
   "source": [
    "src_index_to_word = src_tokenizer.index_word # 원문 단어 집합에서 정수 -> 단어를 얻음\n",
    "tar_word_to_index = tar_tokenizer.word_index # 요약 단어 집합에서 단어 -> 정수를 얻음\n",
    "tar_index_to_word = tar_tokenizer.index_word # 요약 단어 집합에서 정수 -> 단어를 얻음"
   ]
  },
  {
   "cell_type": "code",
   "execution_count": 42,
   "id": "level-sewing",
   "metadata": {},
   "outputs": [],
   "source": [
    "# 인코더 설계\n",
    "encoder_model = Model(inputs=encoder_inputs, outputs=[encoder_outputs, state_h, state_c])\n",
    "\n",
    "# 이전 시점의 상태들을 저장하는 텐서\n",
    "decoder_state_input_h = Input(shape=(hidden_size,))\n",
    "decoder_state_input_c = Input(shape=(hidden_size,))\n",
    "\n",
    "dec_emb2 = dec_emb_layer(decoder_inputs)\n",
    "# 문장의 다음 단어를 예측하기 위해서 초기 상태(initial_state)를 이전 시점의 상태로 사용. 이는 뒤의 함수 decode_sequence()에 구현\n",
    "# 훈련 과정에서와 달리 LSTM의 리턴하는 은닉 상태와 셀 상태인 state_h와 state_c를 버리지 않음.\n",
    "decoder_outputs2, state_h2, state_c2 = decoder_lstm(dec_emb2, initial_state=[decoder_state_input_h, decoder_state_input_c])"
   ]
  },
  {
   "cell_type": "code",
   "execution_count": 43,
   "id": "respective-prophet",
   "metadata": {},
   "outputs": [],
   "source": [
    "# 어텐션 함수\n",
    "decoder_hidden_state_input = Input(shape=(text_max_len, hidden_size))\n",
    "attn_out_inf, attn_states_inf = attn_layer([decoder_hidden_state_input, decoder_outputs2])\n",
    "decoder_inf_concat = Concatenate(axis=-1, name='concat')([decoder_outputs2, attn_out_inf])\n",
    "\n",
    "# 디코더의 출력층\n",
    "decoder_outputs2 = decoder_softmax_layer(decoder_inf_concat) \n",
    "\n",
    "# 최종 디코더 모델\n",
    "decoder_model = Model(\n",
    "    [decoder_inputs] + [decoder_hidden_state_input,decoder_state_input_h, decoder_state_input_c],\n",
    "    [decoder_outputs2] + [state_h2, state_c2])"
   ]
  },
  {
   "cell_type": "code",
   "execution_count": 44,
   "id": "minor-liability",
   "metadata": {},
   "outputs": [],
   "source": [
    "def decode_sequence(input_seq):\n",
    "    # 입력으로부터 인코더의 상태를 얻음\n",
    "    e_out, e_h, e_c = encoder_model.predict(input_seq)\n",
    "\n",
    "     # <SOS>에 해당하는 토큰 생성\n",
    "    target_seq = np.zeros((1,1))\n",
    "    target_seq[0, 0] = tar_word_to_index['sostoken']\n",
    "\n",
    "    stop_condition = False\n",
    "    decoded_sentence = ''\n",
    "    while not stop_condition: # stop_condition이 True가 될 때까지 루프 반복\n",
    "\n",
    "        output_tokens, h, c = decoder_model.predict([target_seq] + [e_out, e_h, e_c])\n",
    "        sampled_token_index = np.argmax(output_tokens[0, -1, :])\n",
    "        sampled_token = tar_index_to_word[sampled_token_index]\n",
    "\n",
    "        if (sampled_token!='eostoken'):\n",
    "            decoded_sentence += ' '+sampled_token\n",
    "\n",
    "        #  <eos>에 도달하거나 최대 길이를 넘으면 중단.\n",
    "        if (sampled_token == 'eostoken'  or len(decoded_sentence.split()) >= (summary_max_len-1)):\n",
    "            stop_condition = True\n",
    "\n",
    "        # 길이가 1인 타겟 시퀀스를 업데이트\n",
    "        target_seq = np.zeros((1,1))\n",
    "        target_seq[0, 0] = sampled_token_index\n",
    "\n",
    "        # 상태를 업데이트 합니다.\n",
    "        e_h, e_c = h, c\n",
    "\n",
    "    return decoded_sentence"
   ]
  },
  {
   "cell_type": "markdown",
   "id": "white-fishing",
   "metadata": {},
   "source": [
    "### 4-2. 원문과 비교하기"
   ]
  },
  {
   "cell_type": "code",
   "execution_count": 45,
   "id": "british-agreement",
   "metadata": {},
   "outputs": [],
   "source": [
    "# 원문의 정수 시퀀스를 텍스트 시퀀스로 변환\n",
    "def seq2text(input_seq):\n",
    "    temp=''\n",
    "    for i in input_seq:\n",
    "        if (i!=0):\n",
    "            temp = temp + src_index_to_word[i]+' '\n",
    "    return temp\n",
    "\n",
    "# 요약문의 정수 시퀀스를 텍스트 시퀀스로 변환\n",
    "def seq2summary(input_seq):\n",
    "    temp=''\n",
    "    for i in input_seq:\n",
    "        if ((i!=0 and i!=tar_word_to_index['sostoken']) and i!=tar_word_to_index['eostoken']):\n",
    "            temp = temp + tar_index_to_word[i] + ' '\n",
    "    return temp"
   ]
  },
  {
   "cell_type": "code",
   "execution_count": 46,
   "id": "realistic-sleep",
   "metadata": {
    "scrolled": false
   },
   "outputs": [
    {
     "name": "stdout",
     "output_type": "stream",
     "text": [
      "원문 : union minister law information technology ravi shankar prasad interview recently said innovation killed name privacy adding stray case failure cannot used blame entire system said government ensuring one excluded welfare schemes lack aadhaar \n",
      "실제 요약 : shouldn kill innovation for privacy minister on aadhaar \n",
      "예측 요약 :  law law must be law minister on aadhaar death\n",
      "\n",
      "\n",
      "원문 : year old us girl left critically injured fractured skull attempted viral kiki challenge recently said last thing remembered opening car door taken hospital accident fractured skull blood ears bleeding brain \n",
      "실제 요약 : kiki challenge attempt leaves us teen with fractured skull \n",
      "예측 요약 :  year old girl dies while trying to photoshoot\n",
      "\n",
      "\n",
      "원문 : twitter users reacted pm narendra modi israeli pm benjamin netanyahu pictures beach bae look way netanyahu look modi beach read one tweet allowed go swim mum lets put feet water another user tweeted \n",
      "실제 요약 : when your school principal asks tweets user \n",
      "예측 요약 :  pm modi trolled for sikkim by pm modi tsunami\n",
      "\n",
      "\n",
      "원문 : mob wednesday attacked four men transporting dead buffalo uttar pradesh locals claimed men killed buffalo stealing one victims said picked dead animal instructions contractor police rescued victims reportedly mob minutes \n",
      "실제 요약 : mob attacks men transporting dead buffalo in uttar pradesh \n",
      "예측 요약 :  mob lynched in cow slaughter in up\n",
      "\n",
      "\n",
      "원문 : filmmaker satish kaushik said always used address late actress sridevi madam adding could call sridevi added like family relations never changed even marriage acted kaushik directorial debut ki rani ka raja \n",
      "실제 요약 : always used to address sridevi as ma am \n",
      "예측 요약 :  sridevi is sridevi to be sridevi\n",
      "\n",
      "\n",
      "원문 : recreated version sukhbir song ishq tera upcoming film hindi medium released song composed sukhbir abhijit vocals sukhbir lyrics kumaar song rap sung written directed saket chaudhary film stars irrfan khan saba qamar lead roles \n",
      "실제 요약 : version of from hindi medium out \n",
      "예측 요약 :  recreated version of song from swachh deewana\n",
      "\n",
      "\n",
      "원문 : morocco year old forward aziz scored goal th minute hand iran victory first match fifa world cup friday victory iran first quadrennial tournament since second overall world cup history morocco first wc match years \n",
      "실제 요약 : th minute own goal helps iran win st wc match in years \n",
      "예측 요약 :  yr old scores goals in minutes after st ever wc win\n",
      "\n",
      "\n",
      "원문 : karnataka government decided introduce pre university board question papers upcoming session onwards education minister sait said move aimed avoiding errors question papers education department reportedly received several communications students errors recently concluded english paper \n",
      "실제 요약 : taka to start of exam papers to avoid errors \n",
      "예측 요약 :  karnataka to introduce exam for all time\n",
      "\n",
      "\n",
      "원문 : year old girl murdered resisting sexual assault buried backyard short stay home run ngo bihar muzaffarpur rescued inmates claimed ngo seva sankalp vikas samiti engaged state welfare department run home inmates rescued reports sexual abuse girls homes surfaced \n",
      "실제 요약 : year old girl killed buried in ngo home rescued inmates \n",
      "예측 요약 :  year old girl found dead in hostel room in up\n",
      "\n",
      "\n",
      "원문 : uk gatwick airport offered lakh reward information help catch drone culprit caused shut three times last week around aircraft cancelled diverted nearly lakh passengers left stranded due drone sightings since wednesday night police arrested two individuals released \n",
      "실제 요약 : uk airport offers lakh to help catch drone culprit \n",
      "예측 요약 :  uk airport offers lakh to help passengers\n",
      "\n",
      "\n",
      "원문 : odd even vehicle rotation scheme applicable two wheelers delhi supreme court monday stayed national green tribunal order ngt directed delhi government make applicable two wheelers would impossible accommodate people public transport odd even made applicable two wheelers counsel delhi government said \n",
      "실제 요약 : no odd even for two wheelers in delhi as sc stays ngt order \n",
      "예측 요약 :  centre to take metro help in odd even sc\n",
      "\n",
      "\n",
      "원문 : journalist blogger abhijit iyer mitra arrested alleged derogatory remarks odisha sun temple granted bail pointing sculptures temple complex video uploaded september mitra said holy place later tweeted jokes aside temple mind blowing \n",
      "실제 요약 : journo held for derogatory remarks on temple gets bail \n",
      "예측 요약 :  journo arrested for journo with temple on temple\n",
      "\n",
      "\n",
      "원문 : iranian president hassan rouhani blamed saudi arabia islamic state militant group middle east create isis unleashed people region rouhani questioned however iran would cooperate even saudi arabia stops countries like us added \n",
      "실제 요약 : iran prez blames saudi for of isis in middle east \n",
      "예측 요약 :  iran calls iran to jerusalem\n",
      "\n",
      "\n",
      "원문 : prime minister economic advisory council chairman said india concerned ai job losses also said technological change always jobs lost mean overall job losses earlier ex rbi governor raghuram rajan said ai even highly skilled jobs like doctors risk \n",
      "실제 요약 : india should not worry about ai job losses pm advisor \n",
      "예측 요약 :  india should be in jobs if it is not job minister\n",
      "\n",
      "\n",
      "원문 : goldman sachs ceo lloyd blankfein reportedly took dig us president donald trump tweet monday solar eclipse saying wish moon thing casting shadow across country notably blankfein tweeted first time ever june express trump decision pull paris climate accord \n",
      "실제 요약 : moon not the only thing casting shadow on us goldman ceo \n",
      "예측 요약 :  trump ceo tweet on twitter ceo tweets about trump tweets\n",
      "\n",
      "\n",
      "원문 : sanju producer vidhu vinod chopra said unhappy director rajkumar hirani informed wanted cast ranbir kapoor sanjay dutt adding thought someone like ranveer singh could play role much better vidhu said thought ranveer emotional depth ability change completely play sanjay dutt \n",
      "실제 요약 : wanted ranveer as sanjay dutt not ranbir sanju producer \n",
      "예측 요약 :  ranbir and sanju have not lost my biopic sanju sanju sanju\n",
      "\n",
      "\n",
      "원문 : india burn uses tibet card pressure china amid standoff indian chinese armies sikkim sector chinese state media warned comes tibetan government exile hoisted country flag shore lake ladakh lies india china \n",
      "실제 요약 : india will burn itself if it uses tibet card chinese media \n",
      "예측 요약 :  india china meets china ruling party\n",
      "\n",
      "\n",
      "원문 : us returned two ancient royal seals south korean president moon jae visit country seals seized us authorities south korea informed seals looted country korean war marks third time us returned south korean \n",
      "실제 요약 : us returns looted royal seals to south korea \n",
      "예측 요약 :  us house to be part of korean prez in south korea\n",
      "\n",
      "\n",
      "원문 : defence acquisition council chaired defence minister nirmala sitharaman cleared acquisitions worth crore biggest procurement approved crore purchase naval utility helicopters built chosen indian private sector company council also approved procurement anti submarine capable multi role helicopters \n",
      "실제 요약 : defence ministry clears worth crore \n",
      "예측 요약 :  defence min approves cr loan worth crore\n",
      "\n",
      "\n",
      "원문 : central board secondary education issued circular schools saying board accept feedback schools students class examination papers board developed observation schedule allowing schools students send comments feedback within hours examination case issues \n",
      "실제 요약 : cbse to take feedback from students schools on exam papers \n",
      "예측 요약 :  cbse asks schools to not set up to schools in schools\n",
      "\n",
      "\n",
      "원문 : india leg spinner yuzvendra chahal recent interview said actor randeep hooda would perfect choice portray onscreen biopic made life interview former national chess champion also said chess easier play cricket said grew former australia spinner shane warne \n",
      "실제 요약 : would like randeep hooda to play me in my biopic chahal \n",
      "예측 요약 :  was not an actor to be made in writer chahal chahal\n",
      "\n",
      "\n",
      "원문 : electric vehicle maker tesla co founder ceo elon musk said company unveiling electric semi truck later week blow mind clear skull alternate dimension need find portal gun musk tweeted launch live tesla website thursday \n",
      "실제 요약 : elon musk confirms tesla will unveil semi truck this week \n",
      "예측 요약 :  tesla shares fall on road production truck\n",
      "\n",
      "\n",
      "원문 : actor randhir kapoor talking brother actor rishi kapoor currently us medical treatment said soon coming back india looking forward right rishi well let people say whatever want good time everyone added randhir \n",
      "실제 요약 : rishi will soon be coming back to india brother randhir \n"
     ]
    },
    {
     "name": "stdout",
     "output_type": "stream",
     "text": [
      "예측 요약 :  rishi kapoor is the only indian rishi kapoor\n",
      "\n",
      "\n",
      "원문 : talking brother indian origin police officer corporal singh allegedly killed illegal immigrant last month us president donald trump said beloved people department beyond trump added trump remarks came demanded funds build us mexico border wall stop illegal migration \n",
      "실제 요약 : we are with you trump to kin of murdered indian origin policeman \n",
      "예측 요약 :  trump blames us for his death for spying\n",
      "\n",
      "\n",
      "원문 : nigerian army tweeted video us president donald trump says soldiers respond force migrants throwing stones justify shooting shia protesters members islamic movement nigeria demanding release leader nigerian army said shootings justified protesters armed \n",
      "실제 요약 : nigerian army cites trump to shooting protesters \n",
      "예측 요약 :  trump calls army for not giving up army chief\n",
      "\n",
      "\n",
      "원문 : study based british citizens died aged older found blood pressure gradually starts decrease years death decrease patients dementia heart failure late life weight loss high blood pressure however long term also found without presence \n",
      "실제 요약 : blood pressure begins years before death study \n",
      "예측 요약 :  died of yr old dies after being died in months\n",
      "\n",
      "\n",
      "원문 : us president donald trump imitated indian pm narendra modi faking accent conversations regarding us decision sending troops afghanistan according reports trump described modi speak understand english prefers converse native hindi true friend ahead first meeting last year \n",
      "실제 요약 : trump pm modi mimics indian accent reports \n",
      "예측 요약 :  trump calls pm modi for his health remark\n",
      "\n",
      "\n",
      "원문 : former uttar pradesh cm akhilesh yadav saturday said ready alliance bjp propaganda perform role alliance remark comes day bsp chief mayawati proposed idea anti bjp alliance general elections occasion th birth anniversary dr br ambedkar friday \n",
      "실제 요약 : am ready for anti bjp alliance for polls akhilesh \n",
      "예측 요약 :  will not alliance with akhilesh yadav on akhilesh\n",
      "\n",
      "\n",
      "원문 : beer production returned syria opening million brewery plans produce million litres beer year beer first mass produced domestic beer since civil war halted production country two brands importing beer lebanon \n",
      "실제 요약 : beer factory opens in syria for st time since war broke out \n",
      "예측 요약 :  beer festival found in italy\n",
      "\n",
      "\n",
      "원문 : online petition requested world meteorological association rename hurricane irma hurricane ivanka referring us president donald trump daughter petition argued pressure needs put trump administration climate change denial stated trump administration completely irresponsible comes climate change \n",
      "실제 요약 : online petition seeks to rename hurricane irma as ivanka \n",
      "예측 요약 :  world no migrant tweets user on hurricane survivors\n",
      "\n",
      "\n",
      "원문 : two boys aged among seven people named fir alleged cow slaughter led violence bulandshahr killing policeman youth boys cousins reportedly questioned police station four hours family claimed village incident took place \n",
      "실제 요약 : boys aged booked in cow slaughter case in bulandshahr \n",
      "예측 요약 :  boys boys in up shelter home after death\n",
      "\n",
      "\n",
      "원문 : speaking daughter sara ali khan acting debut kedarnath saif ali khan said think get close release like film releasing saif said confident sara good film kedarnath also stars sushant singh rajput release december \n",
      "실제 요약 : feels like my film release saif on daughter sara debut \n",
      "예측 요약 :  sara is not to make my film on sets of katrina\n",
      "\n",
      "\n",
      "원문 : south korean actor jo min ki accused sexual assault found dead aged actor accused assaulting least eight people found hanging storage area building lived seoul actor initially denied wrongdoing later released statement apologising \n",
      "실제 요약 : south korean actor found dead after sexual assault row \n",
      "예측 요약 :  south korean actress found dead in sexual assault\n",
      "\n",
      "\n",
      "원문 : valencia goalkeeper diego congratulated barcelona lionel messi scored penalty la liga match sunday valencia shot saved three five penalties conceding one lionel messi scored th brace career help barcelona win match \n",
      "실제 요약 : keeper congratulates messi after conceding penalty \n",
      "예측 요약 :  messi scores as goal as messi gets penalty for messi\n",
      "\n",
      "\n",
      "원문 : asia billionaires world surpassing us first time according report ubs pwc number billionaires asia rose whereas us added billionaires total however us billionaires still control wealth trillion \n",
      "실제 요약 : asia now has more billionaires than the us for first time \n",
      "예측 요약 :  world richest man has hit billionaires despite\n",
      "\n",
      "\n",
      "원문 : indonesia lion air aircraft crashed sea people board damaged indicator last four flights indonesia national transportation safety committee said damage revealed data downloaded plane flight data recorder experts earlier said aircraft sea around kmph \n",
      "실제 요약 : crashed indonesia jet had damaged speed on last flights \n",
      "예측 요약 :  lion air force plane crashes into sea indonesia\n",
      "\n",
      "\n",
      "원문 : technology giant google partnered phone repairing firm offer free pixel phone repairs hurricane harvey victims service made available variety locations including heights rice village located houston area deadline free repairs september \n",
      "실제 요약 : google to repair pixel phones damaged in hurricane for free \n",
      "예측 요약 :  google to let users with smart bricks to be made\n",
      "\n",
      "\n",
      "원문 : rjd supremo lalu prasad yadav serving jail sentence convicted four fodder scam cases sought five day parole attend son tej pratap wedding lalu presently receiving treatment ranchi hospital discharged aiims delhi tej marry former bihar cm prasad rai granddaughter aishwarya may \n",
      "실제 요약 : lalu yadav seeks day parole to attend son tej wedding \n",
      "예측 요약 :  lalu sentence to be probed for day after son death\n",
      "\n",
      "\n",
      "원문 : activist flew us president donald trump scottish golf course friday carrying banner reading trump well par authorities said looking activist protest criminal offence breached fly zone trump met hundreds thousands protesters arrived uk \n",
      "실제 요약 : protesting flies banner over trump golf resort \n",
      "예측 요약 :  trump aide declares his own white house\n",
      "\n",
      "\n",
      "원문 : us president donald trump said political world vicious full lies always used say toughest people manhattan real estate guys blah blah say babies added trump responding question biggest surprise president us \n",
      "실제 요약 : it is full of lies and trump on politics \n",
      "예측 요약 :  trump said he is the most people have mental freedom trump\n",
      "\n",
      "\n",
      "원문 : th standard student rajasthan allegedly gang raped school owner teacher per reports school owner jagdish teacher singh repeatedly sexually abusing girl months incident came light victim got pregnant forced undergo abortion duo \n",
      "실제 요약 : rajasthan minor allegedly gangraped by school owner teacher \n",
      "예측 요약 :  student arrested for raping year old teacher in bihar\n",
      "\n",
      "\n",
      "원문 : defence minister arun jaitley tuesday said army allegedly cheated revenue officials paying rent land pakistan occupied kashmir nine instances come light cbi filed firs two cases jaitley added probe found documents allegedly forged show land india possession \n",
      "실제 요약 : army was cheated to pay rent for land in pok arun jaitley \n",
      "예측 요약 :  fm jaitley to deposit crore in pak loans case\n",
      "\n",
      "\n",
      "원문 : actress aishwarya rai bachchan turned wednesday offered role tina karan johar directorial kuch kuch hota hai however could film character eventually portrayed rani mukerji first film karan johar ae dil hai mushkil released \n",
      "실제 요약 : aishwarya was offered rani role in kuch kuch hota hai \n",
      "예측 요약 :  aishwarya to star in johar film on his film\n",
      "\n",
      "\n",
      "원문 : tourist jodhpur died bitten cobra people taking pictures deceased identified jakhar bitten snake attempted put cobra around neck snake took temple lost consciousness later hospital declared brought dead \n",
      "실제 요약 : tourist dies after being bitten by cobra \n",
      "예측 요약 :  dogs die after falling into funeral\n",
      "\n",
      "\n",
      "원문 : jk rowling author harry potter series named europe highest paid celebrity forbes almost half rowling million earnings month period came co writing harry potter cursed child second position list taken footballer cristiano ronaldo earned million \n",
      "실제 요약 : jk rowling named europe highest paid celebrity of \n",
      "예측 요약 :  harry potter model becomes most paid celebrity in\n",
      "\n",
      "\n",
      "원문 : union law minister ravi shankar prasad written union ministers state chief ministers take measures reduce government litigation order curb cases courts notably government departments nearly crore pending cases various courts across india prasad added \n",
      "실제 요약 : reduce to curb govt to cms union mins \n"
     ]
    },
    {
     "name": "stdout",
     "output_type": "stream",
     "text": [
      "예측 요약 :  cabinet clears cases of in the courts\n",
      "\n",
      "\n",
      "원문 : spacex falcon heavy rocket world powerful operational rocket liftoff thrust million pounds pound load capacity nasa upcoming space launch system million pounds liftoff thrust pound capacity one falcon heavy launch cost million whereas price expected billion \n",
      "실제 요약 : how spacex rocket fares against nasa upcoming \n",
      "예측 요약 :  spacex launches world most powerful rocket\n",
      "\n",
      "\n",
      "원문 : congress recently shared throwback pictures upa chairperson sonia gandhi via instagram account captioned photographs grace charm sonia gandhi captured lens rajiv gandhi italian born sonia met husband rajiv studying english cambridge england student university cambridge \n",
      "실제 요약 : congress shares pictures of sonia gandhi captured by rajiv gandhi \n",
      "예측 요약 :  congress shares video of sonia gandhi book on sonia gandhi\n",
      "\n",
      "\n",
      "원문 : bhumi pednekar said typical masala films would love film karan johar imtiaz ali talking films worked till bhumi said new age films speak problems exist around us entertain yet leave certain education \n",
      "실제 요약 : not against masala films would love to do johar film bhumi \n",
      "예측 요약 :  taapsee bhumi denies nepotism bhumi\n",
      "\n",
      "\n",
      "원문 : united states president donald trump daughter adviser ivanka trump said india us continue work together increase economic opportunities inclusive growth ivanka added looking forward visit meeting pm narendra modi foreign minister sushma swaraj scheduled visit india attend global entrepreneurship summit november \n",
      "실제 요약 : india us will continue to work for growth ivanka \n",
      "예측 요약 :  ivanka trump to work with india for future series ivanka\n",
      "\n",
      "\n"
     ]
    }
   ],
   "source": [
    "for i in range(50, 100):\n",
    "    print(\"원문 :\", seq2text(encoder_input_test[i]))\n",
    "    print(\"실제 요약 :\", seq2summary(decoder_input_test[i]))\n",
    "    print(\"예측 요약 :\", decode_sequence(encoder_input_test[i].reshape(1, text_max_len)))\n",
    "    print(\"\\n\")"
   ]
  },
  {
   "cell_type": "markdown",
   "id": "recent-montana",
   "metadata": {},
   "source": [
    "## 5. Summa을 이용해서 추출적 요약해보기"
   ]
  },
  {
   "cell_type": "code",
   "execution_count": 47,
   "id": "racial-relief",
   "metadata": {},
   "outputs": [],
   "source": [
    "import requests\n",
    "from summa.summarizer import summarize"
   ]
  },
  {
   "cell_type": "code",
   "execution_count": 49,
   "id": "welsh-activation",
   "metadata": {},
   "outputs": [],
   "source": [
    "#원본데이터에서 추출 진행\n",
    "urllib.request.urlretrieve(\"https://raw.githubusercontent.com/sunnysai12345/News_Summary/master/news_summary_more.csv\", filename=\"news_summary_more.csv\")\n",
    "data = pd.read_csv('news_summary_more.csv', encoding='iso-8859-1')"
   ]
  },
  {
   "cell_type": "code",
   "execution_count": 50,
   "id": "alien-spanish",
   "metadata": {},
   "outputs": [],
   "source": [
    "data['summary'] = data['text'].apply(lambda x:summarize(x,ratio=0.5))"
   ]
  },
  {
   "cell_type": "code",
   "execution_count": 53,
   "id": "imposed-kenya",
   "metadata": {
    "scrolled": false
   },
   "outputs": [
    {
     "name": "stdout",
     "output_type": "stream",
     "text": [
      "===Original===\n",
      "Saurav Kant, an alumnus of upGrad and IIIT-B's PG Program in Machine learning and Artificial Intelligence, was a Sr Systems Engineer at Infosys with almost 5 years of work experience. The program and upGrad's 360-degree career support helped him transition to a Data Scientist at Tech Mahindra with 90% salary hike. upGrad's Online Power Learning has powered 3 lakh+ careers.\n",
      "===Headlines===\n",
      "upGrad learner switches to career in ML & Al with 90% salary hike\n",
      "===Extract===\n",
      "upGrad's Online Power Learning has powered 3 lakh+ careers.\n",
      "\n",
      "\n",
      "===Original===\n",
      "Kunal Shah's credit card bill payment platform, CRED, gave users a chance to win free food from Swiggy for one year. Pranav Kaushik, a Delhi techie, bagged this reward after spending 2000 CRED coins. Users get one CRED coin per rupee of bill paid, which can be used to avail rewards from brands like Ixigo, BookMyShow, UberEats, Cult.Fit and more.\n",
      "===Headlines===\n",
      "Delhi techie wins free food from Swiggy for one year on CRED\n",
      "===Extract===\n",
      "Users get one CRED coin per rupee of bill paid, which can be used to avail rewards from brands like Ixigo, BookMyShow, UberEats, Cult.Fit and more.\n",
      "\n",
      "\n",
      "===Original===\n",
      "New Zealand defeated India by 8 wickets in the fourth ODI at Hamilton on Thursday to win their first match of the five-match ODI series. India lost an international match under Rohit Sharma's captaincy after 12 consecutive victories dating back to March 2018. The match witnessed India getting all out for 92, their seventh lowest total in ODI cricket history.\n",
      "===Headlines===\n",
      "New Zealand end Rohit Sharma-led India's 12-match winning streak\n",
      "===Extract===\n",
      "The match witnessed India getting all out for 92, their seventh lowest total in ODI cricket history.\n",
      "\n",
      "\n",
      "===Original===\n",
      "With Aegon Life iTerm Insurance plan, customers can enjoy tax benefits on your premiums paid and save up to Ã¢ÂÂ¹46,800^ on taxes. The plan provides life cover up to the age of 100 years. Also, customers have options to insure against Critical Illnesses, Disability and Accidental Death Benefit Rider with a life cover up to the age of 80 years.\n",
      "===Headlines===\n",
      "Aegon life iTerm insurance plan helps customers save tax\n",
      "===Extract===\n",
      "Also, customers have options to insure against Critical Illnesses, Disability and Accidental Death Benefit Rider with a life cover up to the age of 80 years.\n",
      "\n",
      "\n",
      "===Original===\n",
      "Speaking about the sexual harassment allegations against Rajkumar Hirani, Sonam Kapoor said, \"I've known Hirani for many years...What if it's not true, the [#MeToo] movement will get derailed.\" \"In the #MeToo movement, I always believe a woman. But in this case, we need to reserve our judgment,\" she added. Hirani has been accused by an assistant who worked in 'Sanju'.\n",
      "===Headlines===\n",
      "Have known Hirani for yrs, what if MeToo claims are not true: Sonam\n",
      "===Extract===\n",
      "Speaking about the sexual harassment allegations against Rajkumar Hirani, Sonam Kapoor said, \"I've known Hirani for many years...What if it's not true, the [#MeToo] movement will get derailed.\" \"In the #MeToo movement, I always believe a woman.\n",
      "\n",
      "\n",
      "===Original===\n",
      "Pakistani singer Rahat Fateh Ali Khan has denied receiving any notice from the Enforcement Directorate over allegedly smuggling foreign currency out of India. \"It would have been better if the authorities would have served the notice first if any and then publicised this,\" reads a press release issued on behalf of Rahat. The statement further called the allegation \"bizarre\".\n",
      "===Headlines===\n",
      "Rahat Fateh Ali Khan denies getting notice for smuggling currency\n",
      "===Extract===\n",
      "Pakistani singer Rahat Fateh Ali Khan has denied receiving any notice from the Enforcement Directorate over allegedly smuggling foreign currency out of India.\n",
      "\n",
      "\n",
      "===Original===\n",
      "India recorded their lowest ODI total in New Zealand after getting all out for 92 runs in 30.5 overs in the fourth ODI at Hamilton on Thursday. Seven of India's batsmen were dismissed for single-digit scores, while their number ten batsman Yuzvendra Chahal top-scored with 18*(37). India's previous lowest ODI total in New Zealand was 108.\n",
      "===Headlines===\n",
      "India get all out for 92, their lowest ODI total in New Zealand\n",
      "===Extract===\n",
      "India's previous lowest ODI total in New Zealand was 108.\n",
      "\n",
      "\n",
      "===Original===\n",
      "Weeks after ex-CBI Director Alok Verma told the Department of Personnel and Training to consider him retired, the Home Ministry asked him to join work on the last day of his fixed tenure as Director on Thursday. The ministry directed him to immediately join as DG, Fire Services, the post he was transferred to after his removal as CBI chief.\n",
      "===Headlines===\n",
      "Govt directs Alok Verma to join work 1 day before his retirement\n",
      "===Extract===\n",
      "Weeks after ex-CBI Director Alok Verma told the Department of Personnel and Training to consider him retired, the Home Ministry asked him to join work on the last day of his fixed tenure as Director on Thursday.\n",
      "\n",
      "\n",
      "===Original===\n",
      "Andhra Pradesh CM N Chandrababu Naidu has said, \"When I met then US President Bill Clinton, I addressed him as Mr Clinton, not as 'sir'. (PM Narendra) Modi is my junior in politics...I addressed him as sir 10 times.\" \"I did this...to satisfy his ego in the hope that he will do justice to the state,\" he added.\n",
      "===Headlines===\n",
      "Called PM Modi 'sir' 10 times to satisfy his ego: Andhra CM\n",
      "===Extract===\n",
      "Andhra Pradesh CM N Chandrababu Naidu has said, \"When I met then US President Bill Clinton, I addressed him as Mr Clinton, not as 'sir'.\n",
      "\n",
      "\n",
      "===Original===\n",
      "Congress candidate Shafia Zubair won the Ramgarh Assembly seat in Rajasthan, by defeating BJP's Sukhwant Singh with a margin of 12,228 votes in the bypoll. With this victory, Congress has taken its total to 100 seats in the 200-member assembly. The election to the Ramgarh seat was delayed due to the death of sitting MLA and BSP candidate Laxman Singh.\n",
      "===Headlines===\n",
      "Cong wins Ramgarh bypoll in Rajasthan, takes total to 100 seats\n",
      "===Extract===\n",
      "Congress candidate Shafia Zubair won the Ramgarh Assembly seat in Rajasthan, by defeating BJP's Sukhwant Singh with a margin of 12,228 votes in the bypoll.\n",
      "\n",
      "\n",
      "===Original===\n",
      "Two minor cousins in Uttar Pradesh's Gorakhpur were allegedly repeatedly burnt with tongs and forced to eat human excreta by their family for being friends with two boys from the same school. The cousins revealed their ordeal to the police and Child Welfare Committee after being brought back to Gorakhpur from Nepal, where they had fled to escape the torture.\n",
      "===Headlines===\n",
      "UP cousins fed human excreta for friendship with boys\n",
      "===Extract===\n",
      "Two minor cousins in Uttar Pradesh's Gorakhpur were allegedly repeatedly burnt with tongs and forced to eat human excreta by their family for being friends with two boys from the same school.\n",
      "\n",
      "\n",
      "===Original===\n",
      "Isha Ghosh, an 81-year-old member of Bharat Scouts and Guides (BSG), has been imparting physical and mental training to schoolchildren in Jharkhand for several decades. Chaibasa-based Ghosh reportedly walks seven kilometres daily and spends eight hours conducting physical training, apart from climbing and yoga sessions. She says, \"One should do something for society till one's last breath.\"\n",
      "===Headlines===\n",
      "81-yr-old woman conducts physical training in J'khand schools\n",
      "===Extract===\n",
      "Isha Ghosh, an 81-year-old member of Bharat Scouts and Guides (BSG), has been imparting physical and mental training to schoolchildren in Jharkhand for several decades.\n",
      "\n",
      "\n",
      "===Original===\n",
      "Urging saints and seers at the Kumbh Mela to quit smoking, Yoga guru Ramdev said, \"We follow Ram and Krishna who never smoked in their life then why should we?\" Making them take a pledge to quit tobacco, he collected chillum (clay pipe) from several sadhus. He said he will deposit the chillums for display at a museum he'll build.\n",
      "===Headlines===\n",
      "Ram, Krishna didn't smoke, why should we: Ramdev to sadhus at Kumbh\n",
      "===Extract===\n",
      "Urging saints and seers at the Kumbh Mela to quit smoking, Yoga guru Ramdev said, \"We follow Ram and Krishna who never smoked in their life then why should we?\" Making them take a pledge to quit tobacco, he collected chillum (clay pipe) from several sadhus.\n",
      "\n",
      "\n",
      "===Original===\n",
      "Former stripper and regional sales director of a pharmaceutical company, Sunrise Lee, gave a doctor a lap dance in a nightclub to persuade him to prescribe an addictive fentanyl spray in 2012, the company's sales representative told a US court. She said she saw Lee \"sitting on [doctor's] lap, kind of bouncing around.\" Lee has been accused of bribing doctors.\n",
      "===Headlines===\n",
      "Pharma exec gave doctor a lap dance to sell medicine in US: Witness\n",
      "===Extract===\n",
      "Former stripper and regional sales director of a pharmaceutical company, Sunrise Lee, gave a doctor a lap dance in a nightclub to persuade him to prescribe an addictive fentanyl spray in 2012, the company's sales representative told a US court.\n",
      "\n",
      "\n",
      "===Original===\n",
      "Reliance Industries' Chairman Mukesh Ambani's daughter Isha Ambani, who got married last month, said she only cried at her 'bidaai' because she felt peer pressure as everyone was crying, especially her parents. \"I was emotional too but everyone around me would cry all the time,\" she added. \"It was a very emotional affair for everyone in my family,\" said Isha.\n",
      "===Headlines===\n",
      " I only cried at my 'bidaai' as I felt peer pressure: Isha Ambani\n",
      "===Extract===\n",
      "\"It was a very emotional affair for everyone in my family,\" said Isha.\n",
      "\n",
      "\n"
     ]
    }
   ],
   "source": [
    "for i in range(15):\n",
    "    print('===Original===')\n",
    "    print(data['text'][i])\n",
    "    print('===Headlines===')\n",
    "    print(data['headlines'][i])\n",
    "    print('===Extract===')\n",
    "    print(data['summary'][i])\n",
    "    print('\\n')\n",
    "    \n",
    "    "
   ]
  },
  {
   "cell_type": "markdown",
   "id": "gorgeous-flush",
   "metadata": {},
   "source": [
    "## 6. 회고록"
   ]
  },
  {
   "cell_type": "markdown",
   "id": "correct-length",
   "metadata": {},
   "source": [
    "1.  모델의 결과가 loss: 2.2810 - val_loss: 3.2551로 나와 생각보다 높았다. 텍스트를 전처리하는 것, 모델의 파라미터들을 조정해보는 방법등을 통해 나중에는 조금 더 성능을 높여볼 수 있을 것 같다. \n",
    "\n",
    "2. 추상적 요약을 통한 결과는 생각보단 몇 문장은 굉장히 내용을 잘 요약했다. 하지만, 본문과 상관없는 단어들이 나온다거나 하는 경우가 많았다. 또한, 문장 내에 단어의 반복이 나타나는 것을 볼 수 있었다. 아직은 추상적 요약의 성능이 높지는 않은 것 같다. \n",
    "\n",
    "3. 추출적 요약의 경우, 문법적으로 거의 알맞은 문장을 구사했고, 내용 또한 어느정도 일맥상통했다. 하지만, 축약이라기엔 굉장히 긴 문장들로 구성되어 있었고, 어떠한 것들은 본문의 문장 그대로를 가져온 경우, 헤드라인과는 다른 내용의 문장을 가져온 경우등이 있었다. \n",
    "\n"
   ]
  },
  {
   "cell_type": "code",
   "execution_count": null,
   "id": "convertible-accuracy",
   "metadata": {},
   "outputs": [],
   "source": []
  }
 ],
 "metadata": {
  "kernelspec": {
   "display_name": "Python 3",
   "language": "python",
   "name": "python3"
  },
  "language_info": {
   "codemirror_mode": {
    "name": "ipython",
    "version": 3
   },
   "file_extension": ".py",
   "mimetype": "text/x-python",
   "name": "python",
   "nbconvert_exporter": "python",
   "pygments_lexer": "ipython3",
   "version": "3.7.9"
  }
 },
 "nbformat": 4,
 "nbformat_minor": 5
}
